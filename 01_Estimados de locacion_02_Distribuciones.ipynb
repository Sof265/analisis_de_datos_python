{
  "nbformat": 4,
  "nbformat_minor": 0,
  "metadata": {
    "colab": {
      "name": "01_Estimados de locacion_02_Distribuciones.ipynb",
      "provenance": [],
      "collapsed_sections": []
    },
    "kernelspec": {
      "name": "python3",
      "display_name": "Python 3"
    },
    "language_info": {
      "name": "python"
    }
  },
  "cells": [
    {
      "cell_type": "markdown",
      "metadata": {
        "id": "TYSviORxnl-v"
      },
      "source": [
        "#Postwork 1. Estimados de locación y variabilidad"
      ]
    },
    {
      "cell_type": "code",
      "metadata": {
        "id": "c7DBf25hnlUz"
      },
      "source": [
        "#Importamos módulos necesarios\n",
        "import pandas as pd\n",
        "import numpy as np\n",
        "from scipy import stats"
      ],
      "execution_count": null,
      "outputs": []
    },
    {
      "cell_type": "code",
      "metadata": {
        "colab": {
          "base_uri": "https://localhost:8080/"
        },
        "id": "XopF3BcnhcLf",
        "outputId": "42e4a70d-4b95-43a3-f970-19076e6b15dc"
      },
      "source": [
        "from google.colab import drive\n",
        "drive.mount('/content/drive')"
      ],
      "execution_count": null,
      "outputs": [
        {
          "output_type": "stream",
          "name": "stdout",
          "text": [
            "Mounted at /content/drive\n"
          ]
        }
      ]
    },
    {
      "cell_type": "markdown",
      "metadata": {
        "id": "rvljY4O2n3Ou"
      },
      "source": [
        "## Limpieza de datos"
      ]
    },
    {
      "cell_type": "markdown",
      "metadata": {
        "id": "CTjnUxHkVHjR"
      },
      "source": [
        "Cargamos nuestro dataset y lo almacenamos en un DataFrame, para poder trabajar con datos limpios."
      ]
    },
    {
      "cell_type": "code",
      "metadata": {
        "colab": {
          "base_uri": "https://localhost:8080/",
          "height": 521
        },
        "id": "NotzzMk9n0KG",
        "outputId": "7585414f-50e6-4124-8c39-cead915b3a1a"
      },
      "source": [
        "#Importamos primero nuestro dataset\n",
        "df = pd.read_csv('/content/drive/MyDrive/Colab Notebooks/modulo 4/COVID-19 Survey Student Responses.csv')\n",
        "df.head()"
      ],
      "execution_count": null,
      "outputs": [
        {
          "output_type": "execute_result",
          "data": {
            "text/html": [
              "<div>\n",
              "<style scoped>\n",
              "    .dataframe tbody tr th:only-of-type {\n",
              "        vertical-align: middle;\n",
              "    }\n",
              "\n",
              "    .dataframe tbody tr th {\n",
              "        vertical-align: top;\n",
              "    }\n",
              "\n",
              "    .dataframe thead th {\n",
              "        text-align: right;\n",
              "    }\n",
              "</style>\n",
              "<table border=\"1\" class=\"dataframe\">\n",
              "  <thead>\n",
              "    <tr style=\"text-align: right;\">\n",
              "      <th></th>\n",
              "      <th>ID</th>\n",
              "      <th>Region of residence</th>\n",
              "      <th>Age of Subject</th>\n",
              "      <th>Time spent on Online Class</th>\n",
              "      <th>Rating of Online Class experience</th>\n",
              "      <th>Medium for online class</th>\n",
              "      <th>Time spent on self study</th>\n",
              "      <th>Time spent on fitness</th>\n",
              "      <th>Time spent on sleep</th>\n",
              "      <th>Time spent on social media</th>\n",
              "      <th>Prefered social media platform</th>\n",
              "      <th>Time spent on TV</th>\n",
              "      <th>Number of meals per day</th>\n",
              "      <th>Change in your weight</th>\n",
              "      <th>Health issue during lockdown</th>\n",
              "      <th>Stress busters</th>\n",
              "      <th>Time utilized</th>\n",
              "      <th>Do you find yourself more connected with your family, close friends , relatives  ?</th>\n",
              "      <th>What you miss the most</th>\n",
              "    </tr>\n",
              "  </thead>\n",
              "  <tbody>\n",
              "    <tr>\n",
              "      <th>0</th>\n",
              "      <td>R1</td>\n",
              "      <td>Delhi-NCR</td>\n",
              "      <td>21</td>\n",
              "      <td>2.0</td>\n",
              "      <td>Good</td>\n",
              "      <td>Laptop/Desktop</td>\n",
              "      <td>4.0</td>\n",
              "      <td>0.0</td>\n",
              "      <td>7.0</td>\n",
              "      <td>3.0</td>\n",
              "      <td>Linkedin</td>\n",
              "      <td>1</td>\n",
              "      <td>4</td>\n",
              "      <td>Increased</td>\n",
              "      <td>NO</td>\n",
              "      <td>Cooking</td>\n",
              "      <td>YES</td>\n",
              "      <td>YES</td>\n",
              "      <td>School/college</td>\n",
              "    </tr>\n",
              "    <tr>\n",
              "      <th>1</th>\n",
              "      <td>R2</td>\n",
              "      <td>Delhi-NCR</td>\n",
              "      <td>21</td>\n",
              "      <td>0.0</td>\n",
              "      <td>Excellent</td>\n",
              "      <td>Smartphone</td>\n",
              "      <td>0.0</td>\n",
              "      <td>2.0</td>\n",
              "      <td>10.0</td>\n",
              "      <td>3.0</td>\n",
              "      <td>Youtube</td>\n",
              "      <td>0</td>\n",
              "      <td>3</td>\n",
              "      <td>Decreased</td>\n",
              "      <td>NO</td>\n",
              "      <td>Scrolling through social media</td>\n",
              "      <td>YES</td>\n",
              "      <td>NO</td>\n",
              "      <td>Roaming around freely</td>\n",
              "    </tr>\n",
              "    <tr>\n",
              "      <th>2</th>\n",
              "      <td>R3</td>\n",
              "      <td>Delhi-NCR</td>\n",
              "      <td>20</td>\n",
              "      <td>7.0</td>\n",
              "      <td>Very poor</td>\n",
              "      <td>Laptop/Desktop</td>\n",
              "      <td>3.0</td>\n",
              "      <td>0.0</td>\n",
              "      <td>6.0</td>\n",
              "      <td>2.0</td>\n",
              "      <td>Linkedin</td>\n",
              "      <td>0</td>\n",
              "      <td>3</td>\n",
              "      <td>Remain Constant</td>\n",
              "      <td>NO</td>\n",
              "      <td>Listening to music</td>\n",
              "      <td>NO</td>\n",
              "      <td>YES</td>\n",
              "      <td>Travelling</td>\n",
              "    </tr>\n",
              "    <tr>\n",
              "      <th>3</th>\n",
              "      <td>R4</td>\n",
              "      <td>Delhi-NCR</td>\n",
              "      <td>20</td>\n",
              "      <td>3.0</td>\n",
              "      <td>Very poor</td>\n",
              "      <td>Smartphone</td>\n",
              "      <td>2.0</td>\n",
              "      <td>1.0</td>\n",
              "      <td>6.0</td>\n",
              "      <td>5.0</td>\n",
              "      <td>Instagram</td>\n",
              "      <td>0</td>\n",
              "      <td>3</td>\n",
              "      <td>Decreased</td>\n",
              "      <td>NO</td>\n",
              "      <td>Watching web series</td>\n",
              "      <td>NO</td>\n",
              "      <td>NO</td>\n",
              "      <td>Friends , relatives</td>\n",
              "    </tr>\n",
              "    <tr>\n",
              "      <th>4</th>\n",
              "      <td>R5</td>\n",
              "      <td>Delhi-NCR</td>\n",
              "      <td>21</td>\n",
              "      <td>3.0</td>\n",
              "      <td>Good</td>\n",
              "      <td>Laptop/Desktop</td>\n",
              "      <td>3.0</td>\n",
              "      <td>1.0</td>\n",
              "      <td>8.0</td>\n",
              "      <td>3.0</td>\n",
              "      <td>Instagram</td>\n",
              "      <td>1</td>\n",
              "      <td>4</td>\n",
              "      <td>Remain Constant</td>\n",
              "      <td>NO</td>\n",
              "      <td>Social Media</td>\n",
              "      <td>NO</td>\n",
              "      <td>NO</td>\n",
              "      <td>Travelling</td>\n",
              "    </tr>\n",
              "  </tbody>\n",
              "</table>\n",
              "</div>"
            ],
            "text/plain": [
              "   ID  ... What you miss the most\n",
              "0  R1  ...         School/college\n",
              "1  R2  ...  Roaming around freely\n",
              "2  R3  ...             Travelling\n",
              "3  R4  ...    Friends , relatives\n",
              "4  R5  ...             Travelling\n",
              "\n",
              "[5 rows x 19 columns]"
            ]
          },
          "metadata": {},
          "execution_count": 5
        }
      ]
    },
    {
      "cell_type": "code",
      "metadata": {
        "colab": {
          "base_uri": "https://localhost:8080/"
        },
        "id": "MLR3TBmLoPTB",
        "outputId": "fb9c13f2-38b8-4141-9f73-b7a9f05ad539"
      },
      "source": [
        "df.isna().sum()"
      ],
      "execution_count": null,
      "outputs": [
        {
          "output_type": "execute_result",
          "data": {
            "text/plain": [
              "ID                                                                                     0\n",
              "Region of residence                                                                    0\n",
              "Age of Subject                                                                         0\n",
              "Time spent on Online Class                                                             0\n",
              "Rating of Online Class experience                                                     24\n",
              "Medium for online class                                                               51\n",
              "Time spent on self study                                                               0\n",
              "Time spent on fitness                                                                  0\n",
              "Time spent on sleep                                                                    0\n",
              "Time spent on social media                                                             0\n",
              "Prefered social media platform                                                         0\n",
              "Time spent on TV                                                                       0\n",
              "Number of meals per day                                                                0\n",
              "Change in your weight                                                                  0\n",
              "Health issue during lockdown                                                           0\n",
              "Stress busters                                                                         0\n",
              "Time utilized                                                                          0\n",
              "Do you find yourself more connected with your family, close friends , relatives  ?     0\n",
              "What you miss the most                                                                 0\n",
              "dtype: int64"
            ]
          },
          "metadata": {},
          "execution_count": 7
        }
      ]
    },
    {
      "cell_type": "code",
      "metadata": {
        "id": "P6DFio1zoUyv"
      },
      "source": [
        "#Renombramos columna por faacilidad\n",
        "df.rename(columns = {'Do you find yourself more connected with your family, close friends , relatives  ?':'Emotional connections'}, inplace = True)"
      ],
      "execution_count": null,
      "outputs": []
    },
    {
      "cell_type": "code",
      "metadata": {
        "id": "NxFuc5GXoZAp"
      },
      "source": [
        "df = df.drop('ID', axis=1)\n",
        "#df.index.name = 'ID'"
      ],
      "execution_count": null,
      "outputs": []
    },
    {
      "cell_type": "code",
      "metadata": {
        "colab": {
          "base_uri": "https://localhost:8080/",
          "height": 417
        },
        "id": "B8CrURe_ob2e",
        "outputId": "8b978a2d-2652-43a7-e946-82d035b438ca"
      },
      "source": [
        "df.head()"
      ],
      "execution_count": null,
      "outputs": [
        {
          "output_type": "execute_result",
          "data": {
            "text/html": [
              "<div>\n",
              "<style scoped>\n",
              "    .dataframe tbody tr th:only-of-type {\n",
              "        vertical-align: middle;\n",
              "    }\n",
              "\n",
              "    .dataframe tbody tr th {\n",
              "        vertical-align: top;\n",
              "    }\n",
              "\n",
              "    .dataframe thead th {\n",
              "        text-align: right;\n",
              "    }\n",
              "</style>\n",
              "<table border=\"1\" class=\"dataframe\">\n",
              "  <thead>\n",
              "    <tr style=\"text-align: right;\">\n",
              "      <th></th>\n",
              "      <th>Region of residence</th>\n",
              "      <th>Age of Subject</th>\n",
              "      <th>Time spent on Online Class</th>\n",
              "      <th>Rating of Online Class experience</th>\n",
              "      <th>Medium for online class</th>\n",
              "      <th>Time spent on self study</th>\n",
              "      <th>Time spent on fitness</th>\n",
              "      <th>Time spent on sleep</th>\n",
              "      <th>Time spent on social media</th>\n",
              "      <th>Prefered social media platform</th>\n",
              "      <th>Time spent on TV</th>\n",
              "      <th>Number of meals per day</th>\n",
              "      <th>Change in your weight</th>\n",
              "      <th>Health issue during lockdown</th>\n",
              "      <th>Stress busters</th>\n",
              "      <th>Time utilized</th>\n",
              "      <th>Emotional connections</th>\n",
              "      <th>What you miss the most</th>\n",
              "    </tr>\n",
              "  </thead>\n",
              "  <tbody>\n",
              "    <tr>\n",
              "      <th>0</th>\n",
              "      <td>Delhi-NCR</td>\n",
              "      <td>21</td>\n",
              "      <td>2.0</td>\n",
              "      <td>Good</td>\n",
              "      <td>Laptop/Desktop</td>\n",
              "      <td>4.0</td>\n",
              "      <td>0.0</td>\n",
              "      <td>7.0</td>\n",
              "      <td>3.0</td>\n",
              "      <td>Linkedin</td>\n",
              "      <td>1</td>\n",
              "      <td>4</td>\n",
              "      <td>Increased</td>\n",
              "      <td>NO</td>\n",
              "      <td>Cooking</td>\n",
              "      <td>YES</td>\n",
              "      <td>YES</td>\n",
              "      <td>School/college</td>\n",
              "    </tr>\n",
              "    <tr>\n",
              "      <th>1</th>\n",
              "      <td>Delhi-NCR</td>\n",
              "      <td>21</td>\n",
              "      <td>0.0</td>\n",
              "      <td>Excellent</td>\n",
              "      <td>Smartphone</td>\n",
              "      <td>0.0</td>\n",
              "      <td>2.0</td>\n",
              "      <td>10.0</td>\n",
              "      <td>3.0</td>\n",
              "      <td>Youtube</td>\n",
              "      <td>0</td>\n",
              "      <td>3</td>\n",
              "      <td>Decreased</td>\n",
              "      <td>NO</td>\n",
              "      <td>Scrolling through social media</td>\n",
              "      <td>YES</td>\n",
              "      <td>NO</td>\n",
              "      <td>Roaming around freely</td>\n",
              "    </tr>\n",
              "    <tr>\n",
              "      <th>2</th>\n",
              "      <td>Delhi-NCR</td>\n",
              "      <td>20</td>\n",
              "      <td>7.0</td>\n",
              "      <td>Very poor</td>\n",
              "      <td>Laptop/Desktop</td>\n",
              "      <td>3.0</td>\n",
              "      <td>0.0</td>\n",
              "      <td>6.0</td>\n",
              "      <td>2.0</td>\n",
              "      <td>Linkedin</td>\n",
              "      <td>0</td>\n",
              "      <td>3</td>\n",
              "      <td>Remain Constant</td>\n",
              "      <td>NO</td>\n",
              "      <td>Listening to music</td>\n",
              "      <td>NO</td>\n",
              "      <td>YES</td>\n",
              "      <td>Travelling</td>\n",
              "    </tr>\n",
              "    <tr>\n",
              "      <th>3</th>\n",
              "      <td>Delhi-NCR</td>\n",
              "      <td>20</td>\n",
              "      <td>3.0</td>\n",
              "      <td>Very poor</td>\n",
              "      <td>Smartphone</td>\n",
              "      <td>2.0</td>\n",
              "      <td>1.0</td>\n",
              "      <td>6.0</td>\n",
              "      <td>5.0</td>\n",
              "      <td>Instagram</td>\n",
              "      <td>0</td>\n",
              "      <td>3</td>\n",
              "      <td>Decreased</td>\n",
              "      <td>NO</td>\n",
              "      <td>Watching web series</td>\n",
              "      <td>NO</td>\n",
              "      <td>NO</td>\n",
              "      <td>Friends , relatives</td>\n",
              "    </tr>\n",
              "    <tr>\n",
              "      <th>4</th>\n",
              "      <td>Delhi-NCR</td>\n",
              "      <td>21</td>\n",
              "      <td>3.0</td>\n",
              "      <td>Good</td>\n",
              "      <td>Laptop/Desktop</td>\n",
              "      <td>3.0</td>\n",
              "      <td>1.0</td>\n",
              "      <td>8.0</td>\n",
              "      <td>3.0</td>\n",
              "      <td>Instagram</td>\n",
              "      <td>1</td>\n",
              "      <td>4</td>\n",
              "      <td>Remain Constant</td>\n",
              "      <td>NO</td>\n",
              "      <td>Social Media</td>\n",
              "      <td>NO</td>\n",
              "      <td>NO</td>\n",
              "      <td>Travelling</td>\n",
              "    </tr>\n",
              "  </tbody>\n",
              "</table>\n",
              "</div>"
            ],
            "text/plain": [
              "  Region of residence  ...  What you miss the most\n",
              "0           Delhi-NCR  ...          School/college\n",
              "1           Delhi-NCR  ...   Roaming around freely\n",
              "2           Delhi-NCR  ...              Travelling\n",
              "3           Delhi-NCR  ...     Friends , relatives\n",
              "4           Delhi-NCR  ...              Travelling\n",
              "\n",
              "[5 rows x 18 columns]"
            ]
          },
          "metadata": {},
          "execution_count": 10
        }
      ]
    },
    {
      "cell_type": "code",
      "metadata": {
        "id": "dygQPauaodFd"
      },
      "source": [
        "df['Medium for online class'] = df['Medium for online class'].fillna('No medium')"
      ],
      "execution_count": null,
      "outputs": []
    },
    {
      "cell_type": "code",
      "metadata": {
        "id": "cukl1Zjjo0Ew"
      },
      "source": [
        "df['Rating of Online Class experience'] = df['Rating of Online Class experience'].fillna('No rating')"
      ],
      "execution_count": null,
      "outputs": []
    },
    {
      "cell_type": "code",
      "metadata": {
        "colab": {
          "base_uri": "https://localhost:8080/"
        },
        "id": "ipGMzbCQo5kG",
        "outputId": "527a2890-3a26-46b9-d036-bb8412fbd06d"
      },
      "source": [
        "#Vemos valores para hacer la columna numérica\n",
        "set(df['Time spent on TV'])"
      ],
      "execution_count": null,
      "outputs": [
        {
          "output_type": "execute_result",
          "data": {
            "text/plain": [
              "{' ',\n",
              " '0',\n",
              " '0.1',\n",
              " '0.25',\n",
              " '0.3',\n",
              " '0.4',\n",
              " '0.5',\n",
              " '0.6',\n",
              " '0.75',\n",
              " '1',\n",
              " '1.5',\n",
              " '15',\n",
              " '2',\n",
              " '2.5',\n",
              " '3',\n",
              " '3.5',\n",
              " '4',\n",
              " '4.5',\n",
              " '5',\n",
              " '6',\n",
              " '7',\n",
              " '8',\n",
              " 'N',\n",
              " 'No tv',\n",
              " 'n'}"
            ]
          },
          "metadata": {},
          "execution_count": 10
        }
      ]
    },
    {
      "cell_type": "markdown",
      "metadata": {
        "id": "IKud6OQ3VY0J"
      },
      "source": [
        "Reemplazamos los datos que no son numéricos por 0 y al final hacemos que la columna sea del tipo numérica."
      ]
    },
    {
      "cell_type": "code",
      "metadata": {
        "id": "V6QOiqA-pOAo"
      },
      "source": [
        "df['Time spent on TV'] = df['Time spent on TV'].replace({'N': 0, 'No tv':0, 'n': 0, ' ':0}).astype(float)"
      ],
      "execution_count": null,
      "outputs": []
    },
    {
      "cell_type": "markdown",
      "metadata": {
        "id": "OhFusebZplQ1"
      },
      "source": [
        "## Identificación de las columnas del dataset con datos numéricos."
      ]
    },
    {
      "cell_type": "code",
      "metadata": {
        "colab": {
          "base_uri": "https://localhost:8080/"
        },
        "id": "wmzkb_i0pmtr",
        "outputId": "ed77f620-1040-4c8a-87c6-e34180142fc6"
      },
      "source": [
        "df.dtypes"
      ],
      "execution_count": null,
      "outputs": [
        {
          "output_type": "execute_result",
          "data": {
            "text/plain": [
              "Region of residence                   object\n",
              "Age of Subject                         int64\n",
              "Time spent on Online Class           float64\n",
              "Rating of Online Class experience     object\n",
              "Medium for online class               object\n",
              "Time spent on self study             float64\n",
              "Time spent on fitness                float64\n",
              "Time spent on sleep                  float64\n",
              "Time spent on social media           float64\n",
              "Prefered social media platform        object\n",
              "Time spent on TV                     float64\n",
              "Number of meals per day                int64\n",
              "Change in your weight                 object\n",
              "Health issue during lockdown          object\n",
              "Stress busters                        object\n",
              "Time utilized                         object\n",
              "Emotional connections                 object\n",
              "What you miss the most                object\n",
              "dtype: object"
            ]
          },
          "metadata": {},
          "execution_count": 15
        }
      ]
    },
    {
      "cell_type": "code",
      "metadata": {
        "colab": {
          "base_uri": "https://localhost:8080/",
          "height": 224
        },
        "id": "upkmOgmgprS0",
        "outputId": "fe7dbef5-0c11-4af7-ddd5-e8363179407e"
      },
      "source": [
        "df_num = df.select_dtypes('number')\n",
        "df_num.head()"
      ],
      "execution_count": null,
      "outputs": [
        {
          "output_type": "execute_result",
          "data": {
            "text/html": [
              "<div>\n",
              "<style scoped>\n",
              "    .dataframe tbody tr th:only-of-type {\n",
              "        vertical-align: middle;\n",
              "    }\n",
              "\n",
              "    .dataframe tbody tr th {\n",
              "        vertical-align: top;\n",
              "    }\n",
              "\n",
              "    .dataframe thead th {\n",
              "        text-align: right;\n",
              "    }\n",
              "</style>\n",
              "<table border=\"1\" class=\"dataframe\">\n",
              "  <thead>\n",
              "    <tr style=\"text-align: right;\">\n",
              "      <th></th>\n",
              "      <th>Age of Subject</th>\n",
              "      <th>Time spent on Online Class</th>\n",
              "      <th>Time spent on self study</th>\n",
              "      <th>Time spent on fitness</th>\n",
              "      <th>Time spent on sleep</th>\n",
              "      <th>Time spent on social media</th>\n",
              "      <th>Time spent on TV</th>\n",
              "      <th>Number of meals per day</th>\n",
              "    </tr>\n",
              "  </thead>\n",
              "  <tbody>\n",
              "    <tr>\n",
              "      <th>0</th>\n",
              "      <td>21</td>\n",
              "      <td>2.0</td>\n",
              "      <td>4.0</td>\n",
              "      <td>0.0</td>\n",
              "      <td>7.0</td>\n",
              "      <td>3.0</td>\n",
              "      <td>1.0</td>\n",
              "      <td>4</td>\n",
              "    </tr>\n",
              "    <tr>\n",
              "      <th>1</th>\n",
              "      <td>21</td>\n",
              "      <td>0.0</td>\n",
              "      <td>0.0</td>\n",
              "      <td>2.0</td>\n",
              "      <td>10.0</td>\n",
              "      <td>3.0</td>\n",
              "      <td>0.0</td>\n",
              "      <td>3</td>\n",
              "    </tr>\n",
              "    <tr>\n",
              "      <th>2</th>\n",
              "      <td>20</td>\n",
              "      <td>7.0</td>\n",
              "      <td>3.0</td>\n",
              "      <td>0.0</td>\n",
              "      <td>6.0</td>\n",
              "      <td>2.0</td>\n",
              "      <td>0.0</td>\n",
              "      <td>3</td>\n",
              "    </tr>\n",
              "    <tr>\n",
              "      <th>3</th>\n",
              "      <td>20</td>\n",
              "      <td>3.0</td>\n",
              "      <td>2.0</td>\n",
              "      <td>1.0</td>\n",
              "      <td>6.0</td>\n",
              "      <td>5.0</td>\n",
              "      <td>0.0</td>\n",
              "      <td>3</td>\n",
              "    </tr>\n",
              "    <tr>\n",
              "      <th>4</th>\n",
              "      <td>21</td>\n",
              "      <td>3.0</td>\n",
              "      <td>3.0</td>\n",
              "      <td>1.0</td>\n",
              "      <td>8.0</td>\n",
              "      <td>3.0</td>\n",
              "      <td>1.0</td>\n",
              "      <td>4</td>\n",
              "    </tr>\n",
              "  </tbody>\n",
              "</table>\n",
              "</div>"
            ],
            "text/plain": [
              "   Age of Subject  ...  Number of meals per day\n",
              "0              21  ...                        4\n",
              "1              21  ...                        3\n",
              "2              20  ...                        3\n",
              "3              20  ...                        3\n",
              "4              21  ...                        4\n",
              "\n",
              "[5 rows x 8 columns]"
            ]
          },
          "metadata": {},
          "execution_count": 12
        }
      ]
    },
    {
      "cell_type": "markdown",
      "metadata": {
        "id": "8MvbNbw2p3X_"
      },
      "source": [
        "## Identificación de la relevancia de las columnas"
      ]
    },
    {
      "cell_type": "markdown",
      "metadata": {
        "id": "Ea93VMdQp8ms"
      },
      "source": [
        "* La columna Age of subject es importante para obtener conclusiones en relación a la edad, que está directamente relacionada con la madurez, pensamientos y comportamiento.\n",
        "* Las columnas desde Time spent on Online Class a Time spent on TV media nos permiten estudiar los hábitos de estudio de los encuestados.\n",
        "* La columna Number of meals per day nos permite relacionar los hábitos alimenticios con la productividad, la salud y las relaciones personales."
      ]
    },
    {
      "cell_type": "markdown",
      "metadata": {
        "id": "5A26jbJgqU-N"
      },
      "source": [
        "## Obtención de estimados para las columnas numéricas"
      ]
    },
    {
      "cell_type": "markdown",
      "metadata": {
        "id": "xuRh7f9BqZat"
      },
      "source": [
        "### Promedio"
      ]
    },
    {
      "cell_type": "code",
      "metadata": {
        "colab": {
          "base_uri": "https://localhost:8080/"
        },
        "id": "4SUmcmwTpvlW",
        "outputId": "a9795077-d988-43c1-afc8-69930ab71d19"
      },
      "source": [
        "df_num.mean()"
      ],
      "execution_count": null,
      "outputs": [
        {
          "output_type": "execute_result",
          "data": {
            "text/plain": [
              "Age of Subject                20.165821\n",
              "Time spent on Online Class     3.208841\n",
              "Time spent on self study       2.911591\n",
              "Time spent on fitness          0.765821\n",
              "Time spent on sleep            7.871235\n",
              "Time spent on social media     2.365694\n",
              "Time spent on TV               1.013959\n",
              "Number of meals per day        2.917936\n",
              "dtype: float64"
            ]
          },
          "metadata": {},
          "execution_count": 17
        }
      ]
    },
    {
      "cell_type": "markdown",
      "metadata": {
        "id": "GPJZV7XuV2oY"
      },
      "source": [
        "Parece que la mayoría de los estudiantes estará rondando los 20 años. En promedio duermen 8 horas y comen 3 veces al día. En total dedican 6 horas al día al estudio, pasando la mitad del tiempo en las clases en línea y la otra mitad estudiando por su cuenta."
      ]
    },
    {
      "cell_type": "markdown",
      "metadata": {
        "id": "7UVSxLBdqfwi"
      },
      "source": [
        "### Mediana"
      ]
    },
    {
      "cell_type": "code",
      "metadata": {
        "colab": {
          "base_uri": "https://localhost:8080/"
        },
        "id": "jUDwHQlHqc-1",
        "outputId": "62a61a14-6415-4372-e271-793ced912305"
      },
      "source": [
        "df_num.median()"
      ],
      "execution_count": null,
      "outputs": [
        {
          "output_type": "execute_result",
          "data": {
            "text/plain": [
              "Age of Subject                20.0\n",
              "Time spent on Online Class     3.0\n",
              "Time spent on self study       2.0\n",
              "Time spent on fitness          1.0\n",
              "Time spent on sleep            8.0\n",
              "Time spent on social media     2.0\n",
              "Time spent on TV               1.0\n",
              "Number of meals per day        3.0\n",
              "dtype: float64"
            ]
          },
          "metadata": {},
          "execution_count": 18
        }
      ]
    },
    {
      "cell_type": "markdown",
      "metadata": {
        "id": "LJ6DI28qWOwR"
      },
      "source": [
        "Además, parece que hay muchos estudiantes que hacen 1 hora de ejercicio al día, y se distraen unas 3 horas al día, usando 2 de esas horas en redes sociales y 1 hora viendo televisión."
      ]
    },
    {
      "cell_type": "markdown",
      "metadata": {
        "id": "RsQiHhIBqplt"
      },
      "source": [
        "### Media truncada.\n",
        "\n",
        "Al aumentar el proncentaje de datos extremos eliminados, la variación de la media para el 10% es casi imperceptible y para el 20% tampoco se encuentran diferencias significativas."
      ]
    },
    {
      "cell_type": "code",
      "metadata": {
        "colab": {
          "base_uri": "https://localhost:8080/"
        },
        "id": "Vn0iiWnCqjHp",
        "outputId": "b9b1a84f-6c28-4401-ceca-16150ab911df"
      },
      "source": [
        "for i in range(8):\n",
        "  print(df_num.columns[i], round(stats.trim_mean(df_num, 0.1)[i],2))"
      ],
      "execution_count": null,
      "outputs": [
        {
          "output_type": "stream",
          "name": "stdout",
          "text": [
            "Age of Subject 19.54\n",
            "Time spent on Online Class 3.13\n",
            "Time spent on self study 2.64\n",
            "Time spent on fitness 0.68\n",
            "Time spent on sleep 7.75\n",
            "Time spent on social media 2.1\n",
            "Time spent on TV 0.8\n",
            "Number of meals per day 2.91\n"
          ]
        }
      ]
    },
    {
      "cell_type": "code",
      "metadata": {
        "colab": {
          "base_uri": "https://localhost:8080/"
        },
        "id": "F8__heLrqxt8",
        "outputId": "c9b0361d-38a3-4d78-8dc9-9f6e20093799"
      },
      "source": [
        "for i in range(8):\n",
        "  print(df_num.columns[i], round(stats.trim_mean(df_num, 0.2)[i],2))"
      ],
      "execution_count": null,
      "outputs": [
        {
          "output_type": "stream",
          "name": "stdout",
          "text": [
            "Age of Subject 19.71\n",
            "Time spent on Online Class 3.14\n",
            "Time spent on self study 2.57\n",
            "Time spent on fitness 0.69\n",
            "Time spent on sleep 7.75\n",
            "Time spent on social media 1.96\n",
            "Time spent on TV 0.73\n",
            "Number of meals per day 2.88\n"
          ]
        }
      ]
    },
    {
      "cell_type": "markdown",
      "metadata": {
        "id": "9q9XLud1q45Q"
      },
      "source": [
        "### Desviación estándar.\n"
      ]
    },
    {
      "cell_type": "code",
      "metadata": {
        "colab": {
          "base_uri": "https://localhost:8080/"
        },
        "id": "oq5prw5Aq0sL",
        "outputId": "6bcf3ef0-16f2-4a51-9f47-ae7662b3a0f7"
      },
      "source": [
        "round(df_num.std(),2)"
      ],
      "execution_count": null,
      "outputs": [
        {
          "output_type": "execute_result",
          "data": {
            "text/plain": [
              "Age of Subject                5.52\n",
              "Time spent on Online Class    2.10\n",
              "Time spent on self study      2.14\n",
              "Time spent on fitness         0.72\n",
              "Time spent on sleep           1.62\n",
              "Time spent on social media    1.77\n",
              "Time spent on TV              1.27\n",
              "Number of meals per day       0.83\n",
              "dtype: float64"
            ]
          },
          "metadata": {},
          "execution_count": 18
        }
      ]
    },
    {
      "cell_type": "markdown",
      "metadata": {
        "id": "14PoJMeCWjxm"
      },
      "source": [
        "No parece que la diferencia sea muy grande en las distintas columnas. El valor de la desviación estándar en la edad es esperado ya que normalmente ronda por los 20 años. Hay estudiantes que estudian algunas horas más y otros menos como es de esperarse."
      ]
    },
    {
      "cell_type": "markdown",
      "metadata": {
        "id": "ekcPJE5_rASV"
      },
      "source": [
        "### Rango"
      ]
    },
    {
      "cell_type": "code",
      "metadata": {
        "colab": {
          "base_uri": "https://localhost:8080/"
        },
        "id": "NNf7WGZuq7xm",
        "outputId": "8477d946-2fe1-4885-ca8d-94dab655738b"
      },
      "source": [
        "#Máximo\n",
        "df_num.max(axis=0)"
      ],
      "execution_count": null,
      "outputs": [
        {
          "output_type": "execute_result",
          "data": {
            "text/plain": [
              "Age of Subject                59.0\n",
              "Time spent on Online Class    10.0\n",
              "Time spent on self study      18.0\n",
              "Time spent on fitness          5.0\n",
              "Time spent on sleep           15.0\n",
              "Time spent on social media    10.0\n",
              "Time spent on TV              15.0\n",
              "Number of meals per day        8.0\n",
              "dtype: float64"
            ]
          },
          "metadata": {},
          "execution_count": 20
        }
      ]
    },
    {
      "cell_type": "code",
      "metadata": {
        "colab": {
          "base_uri": "https://localhost:8080/"
        },
        "id": "CcgigDE2rFB_",
        "outputId": "dd9e9be1-8973-42c6-bfd5-43039aa172b5"
      },
      "source": [
        "#Mínimo \n",
        "df_num.min(axis=0)"
      ],
      "execution_count": null,
      "outputs": [
        {
          "output_type": "execute_result",
          "data": {
            "text/plain": [
              "Age of Subject                7.0\n",
              "Time spent on Online Class    0.0\n",
              "Time spent on self study      0.0\n",
              "Time spent on fitness         0.0\n",
              "Time spent on sleep           4.0\n",
              "Time spent on social media    0.0\n",
              "Time spent on TV              0.0\n",
              "Number of meals per day       1.0\n",
              "dtype: float64"
            ]
          },
          "metadata": {},
          "execution_count": 21
        }
      ]
    },
    {
      "cell_type": "code",
      "metadata": {
        "colab": {
          "base_uri": "https://localhost:8080/"
        },
        "id": "l1Z2dEa9rMRO",
        "outputId": "fce1599e-c329-4aa6-997f-4b88d1ddcb2b"
      },
      "source": [
        "#Rango\n",
        "df_num.max(axis=0)-df_num.min(axis=0)"
      ],
      "execution_count": null,
      "outputs": [
        {
          "output_type": "execute_result",
          "data": {
            "text/plain": [
              "Age of Subject                52.0\n",
              "Time spent on Online Class    10.0\n",
              "Time spent on self study      18.0\n",
              "Time spent on fitness          5.0\n",
              "Time spent on sleep           11.0\n",
              "Time spent on social media    10.0\n",
              "Time spent on TV              15.0\n",
              "Number of meals per day        7.0\n",
              "dtype: float64"
            ]
          },
          "metadata": {},
          "execution_count": 22
        }
      ]
    },
    {
      "cell_type": "markdown",
      "metadata": {
        "id": "JQj9xUBoXD3y"
      },
      "source": [
        "El rango de edad es grande, por lo que hay adultos de mayor edad que también fueron evaluados, además de que hay alguien de 7 años, el cual parece ser un valor atípico considerando nuestra desviación estándar. Además de que hay estudiantes que estudian todo el día, y otros que prácticamente no lo hacen. Imaginamos que son quienes han visto más afectados sus hábitos de estudio."
      ]
    },
    {
      "cell_type": "markdown",
      "metadata": {
        "id": "adjt1xzDrTUN"
      },
      "source": [
        "### Percentiles"
      ]
    },
    {
      "cell_type": "code",
      "metadata": {
        "colab": {
          "base_uri": "https://localhost:8080/",
          "height": 295
        },
        "id": "PHxnpzBurQhf",
        "outputId": "49936361-eccd-419d-8196-18a5ed46158b"
      },
      "source": [
        "def per(df, value):\n",
        "  return [df[i].quantile(value) for i in df_num]\n",
        "\n",
        "datos = {\n",
        "    'Percentil 10': per(df_num, 0.1),\n",
        "    'Percentil 25': per(df_num, 0.25),\n",
        "    'Percentil 50': per(df_num, 0.5),\n",
        "    'Percentil 75': per(df_num, 0.75),\n",
        "    'Percentil 90': per(df_num, 0.9)\n",
        "}\n",
        "\n",
        "df_per = pd.DataFrame(datos)\n",
        "df_per.index = df_num.columns\n",
        "\n",
        "df_per"
      ],
      "execution_count": null,
      "outputs": [
        {
          "output_type": "execute_result",
          "data": {
            "text/html": [
              "<div>\n",
              "<style scoped>\n",
              "    .dataframe tbody tr th:only-of-type {\n",
              "        vertical-align: middle;\n",
              "    }\n",
              "\n",
              "    .dataframe tbody tr th {\n",
              "        vertical-align: top;\n",
              "    }\n",
              "\n",
              "    .dataframe thead th {\n",
              "        text-align: right;\n",
              "    }\n",
              "</style>\n",
              "<table border=\"1\" class=\"dataframe\">\n",
              "  <thead>\n",
              "    <tr style=\"text-align: right;\">\n",
              "      <th></th>\n",
              "      <th>Percentil 10</th>\n",
              "      <th>Percentil 25</th>\n",
              "      <th>Percentil 50</th>\n",
              "      <th>Percentil 75</th>\n",
              "      <th>Percentil 90</th>\n",
              "    </tr>\n",
              "  </thead>\n",
              "  <tbody>\n",
              "    <tr>\n",
              "      <th>Age of Subject</th>\n",
              "      <td>14.0</td>\n",
              "      <td>17.0</td>\n",
              "      <td>20.0</td>\n",
              "      <td>21.0</td>\n",
              "      <td>24.0</td>\n",
              "    </tr>\n",
              "    <tr>\n",
              "      <th>Time spent on Online Class</th>\n",
              "      <td>0.0</td>\n",
              "      <td>2.0</td>\n",
              "      <td>3.0</td>\n",
              "      <td>5.0</td>\n",
              "      <td>6.0</td>\n",
              "    </tr>\n",
              "    <tr>\n",
              "      <th>Time spent on self study</th>\n",
              "      <td>1.0</td>\n",
              "      <td>2.0</td>\n",
              "      <td>2.0</td>\n",
              "      <td>4.0</td>\n",
              "      <td>6.0</td>\n",
              "    </tr>\n",
              "    <tr>\n",
              "      <th>Time spent on fitness</th>\n",
              "      <td>0.0</td>\n",
              "      <td>0.0</td>\n",
              "      <td>1.0</td>\n",
              "      <td>1.0</td>\n",
              "      <td>2.0</td>\n",
              "    </tr>\n",
              "    <tr>\n",
              "      <th>Time spent on sleep</th>\n",
              "      <td>6.0</td>\n",
              "      <td>7.0</td>\n",
              "      <td>8.0</td>\n",
              "      <td>9.0</td>\n",
              "      <td>10.0</td>\n",
              "    </tr>\n",
              "    <tr>\n",
              "      <th>Time spent on social media</th>\n",
              "      <td>1.0</td>\n",
              "      <td>1.0</td>\n",
              "      <td>2.0</td>\n",
              "      <td>3.0</td>\n",
              "      <td>5.0</td>\n",
              "    </tr>\n",
              "    <tr>\n",
              "      <th>Time spent on TV</th>\n",
              "      <td>0.0</td>\n",
              "      <td>0.0</td>\n",
              "      <td>1.0</td>\n",
              "      <td>2.0</td>\n",
              "      <td>2.0</td>\n",
              "    </tr>\n",
              "    <tr>\n",
              "      <th>Number of meals per day</th>\n",
              "      <td>2.0</td>\n",
              "      <td>2.0</td>\n",
              "      <td>3.0</td>\n",
              "      <td>3.0</td>\n",
              "      <td>4.0</td>\n",
              "    </tr>\n",
              "  </tbody>\n",
              "</table>\n",
              "</div>"
            ],
            "text/plain": [
              "                            Percentil 10  ...  Percentil 90\n",
              "Age of Subject                      14.0  ...          24.0\n",
              "Time spent on Online Class           0.0  ...           6.0\n",
              "Time spent on self study             1.0  ...           6.0\n",
              "Time spent on fitness                0.0  ...           2.0\n",
              "Time spent on sleep                  6.0  ...          10.0\n",
              "Time spent on social media           1.0  ...           5.0\n",
              "Time spent on TV                     0.0  ...           2.0\n",
              "Number of meals per day              2.0  ...           4.0\n",
              "\n",
              "[8 rows x 5 columns]"
            ]
          },
          "metadata": {},
          "execution_count": 23
        }
      ]
    },
    {
      "cell_type": "markdown",
      "metadata": {
        "id": "5WzcoQFmrjD9"
      },
      "source": [
        "### Rango intercuartil"
      ]
    },
    {
      "cell_type": "code",
      "metadata": {
        "colab": {
          "base_uri": "https://localhost:8080/"
        },
        "id": "rv97su9FrgVt",
        "outputId": "62b5095c-39a5-496e-b6e7-8ea2d349b349"
      },
      "source": [
        "df_num.quantile(0.75) - df_num.quantile(0.25)"
      ],
      "execution_count": null,
      "outputs": [
        {
          "output_type": "execute_result",
          "data": {
            "text/plain": [
              "Age of Subject                4.0\n",
              "Time spent on Online Class    3.0\n",
              "Time spent on self study      2.0\n",
              "Time spent on fitness         1.0\n",
              "Time spent on sleep           2.0\n",
              "Time spent on social media    2.0\n",
              "Time spent on TV              2.0\n",
              "Number of meals per day       1.0\n",
              "dtype: float64"
            ]
          },
          "metadata": {},
          "execution_count": 24
        }
      ]
    },
    {
      "cell_type": "markdown",
      "metadata": {
        "id": "nNYE5-04gfY6"
      },
      "source": [
        "# Postwork 2. Introducción a la visualización de datos: Distribuciones"
      ]
    },
    {
      "cell_type": "markdown",
      "metadata": {
        "id": "EnJ3rOd-Xh2i"
      },
      "source": [
        "Continuaremos con nuestro conjunto de datos para visualizar distribuciones, filtrar valores atípicos y caracterizar nuestras distribuciones."
      ]
    },
    {
      "cell_type": "code",
      "metadata": {
        "id": "--Z-MxM-rsFW"
      },
      "source": [
        "import seaborn as sns\n",
        "import matplotlib.pyplot as plt\n",
        "from scipy.stats import skew, kurtosis"
      ],
      "execution_count": null,
      "outputs": []
    },
    {
      "cell_type": "code",
      "metadata": {
        "id": "xNm845OHhGkP"
      },
      "source": [
        "import warnings\n",
        "warnings.filterwarnings(\"ignore\")"
      ],
      "execution_count": null,
      "outputs": []
    },
    {
      "cell_type": "code",
      "metadata": {
        "id": "d0HL1MxisDbJ"
      },
      "source": [
        "sns.set(style=\"whitegrid\", context=\"talk\")"
      ],
      "execution_count": null,
      "outputs": []
    },
    {
      "cell_type": "markdown",
      "metadata": {
        "id": "OaiSt1_fnfSN"
      },
      "source": [
        "## Boxplots"
      ]
    },
    {
      "cell_type": "markdown",
      "metadata": {
        "id": "g12OL7A3X0sI"
      },
      "source": [
        "Analizamos la distribución de las variables numéricas, y dependiendo del rango intercuantílico encontrado, decidimos filtrar algunos valores atípicos."
      ]
    },
    {
      "cell_type": "markdown",
      "metadata": {
        "id": "FxL2yADCqd_D"
      },
      "source": [
        "### Age"
      ]
    },
    {
      "cell_type": "code",
      "metadata": {
        "id": "UX7VJ4aeo0Z7"
      },
      "source": [
        "def graphic_filter(df,column_name, val):\n",
        "  fig, axes = plt.subplots(1, 2, figsize=(12, 4))\n",
        "  media_sin_filtro = df[column_name].mean()\n",
        "  sns.boxplot(ax=axes[0], x=df[column_name]).set_title('No filter')\n",
        "  axes[0].axvline( media_sin_filtro, c='r',ls=':')\n",
        "\n",
        "  iqr = df[column_name].quantile(0.75) - df[column_name].quantile(0.25)\n",
        "  filtro_inferior = df[column_name] > df[column_name].quantile(0.25) - (iqr * val)\n",
        "  filtro_superior = df[column_name] < df[column_name].quantile(0.75) + (iqr * val)\n",
        "\n",
        "  df_filtrado = df[filtro_inferior & filtro_superior]\n",
        "  media_con_filtro = df_filtrado[column_name].mean()\n",
        "  sns.boxplot(ax=axes[1], x=df_filtrado[column_name]).set_title('Filtered')\n",
        "  axes[1].axvline(media_con_filtro, c='r',ls=':')\n",
        "  print(f'Media antes del filtro: {media_sin_filtro:.2f}')\n",
        "  print(f'Mediana antes del filtro: {df[column_name].median()}')\n",
        "  print(f'Desviación estándar antes del filtro: {df[column_name].std():.2f}')\n",
        "  print('')\n",
        "  print(f'Media después del filtro: {media_con_filtro:.2f}')\n",
        "  print(f'Mediana después del filtro: {df_filtrado[column_name].median()}')\n",
        "  print(f'Desviación estándar después del filtro: {df_filtrado[column_name].std():.2f}')"
      ],
      "execution_count": null,
      "outputs": []
    },
    {
      "cell_type": "code",
      "metadata": {
        "id": "zQgKpLGyhG5B",
        "colab": {
          "base_uri": "https://localhost:8080/",
          "height": 448
        },
        "outputId": "8c6755a8-da0d-45b6-e962-34fa5f4ed7c8"
      },
      "source": [
        "graphic_filter(df_num, 'Age of Subject', 2.5)"
      ],
      "execution_count": null,
      "outputs": [
        {
          "output_type": "stream",
          "name": "stdout",
          "text": [
            "Media antes del filtro: 20.17\n",
            "Mediana antes del filtro: 20.0\n",
            "Desviación estándar antes del filtro: 5.52\n",
            "\n",
            "Media después del filtro: 19.15\n",
            "Mediana después del filtro: 20.0\n",
            "Desviación estándar después del filtro: 3.47\n"
          ]
        },
        {
          "output_type": "display_data",
          "data": {
            "image/png": "[encoded data removed]",
            "text/plain": [
              "<Figure size 864x288 with 2 Axes>"
            ]
          },
          "metadata": {}
        }
      ]
    },
    {
      "cell_type": "markdown",
      "metadata": {
        "id": "E_3d7t6srvad"
      },
      "source": [
        "### Time spent on online class"
      ]
    },
    {
      "cell_type": "code",
      "metadata": {
        "colab": {
          "base_uri": "https://localhost:8080/",
          "height": 319
        },
        "id": "p1v6ZI0QorRq",
        "outputId": "33aca509-729f-403f-fe3a-0cdca55d6113"
      },
      "source": [
        "sns.boxplot(x=df['Time spent on Online Class'])\n",
        "plt.axvline(df['Time spent on Online Class'].mean(), c='y')"
      ],
      "execution_count": null,
      "outputs": [
        {
          "output_type": "execute_result",
          "data": {
            "text/plain": [
              "<matplotlib.lines.Line2D at 0x7fd0fd954d10>"
            ]
          },
          "metadata": {},
          "execution_count": 41
        },
        {
          "output_type": "display_data",
          "data": {
            "image/png": "[encoded data removed]",
            "text/plain": [
              "<Figure size 432x288 with 1 Axes>"
            ]
          },
          "metadata": {}
        }
      ]
    },
    {
      "cell_type": "markdown",
      "metadata": {
        "id": "cdy78XMmsTMa"
      },
      "source": [
        "### Time spent on self study"
      ]
    },
    {
      "cell_type": "code",
      "metadata": {
        "colab": {
          "base_uri": "https://localhost:8080/",
          "height": 448
        },
        "id": "PSHBv81_r-IC",
        "outputId": "e6a1ae51-8f9a-468c-bfce-b9005d039ac1"
      },
      "source": [
        "graphic_filter(df, 'Time spent on self study', 1.5)"
      ],
      "execution_count": null,
      "outputs": [
        {
          "output_type": "stream",
          "name": "stdout",
          "text": [
            "Media antes del filtro: 2.91\n",
            "Mediana antes del filtro: 2.0\n",
            "Desviación estándar antes del filtro: 2.14\n",
            "\n",
            "Media después del filtro: 2.55\n",
            "Mediana después del filtro: 2.0\n",
            "Desviación estándar después del filtro: 1.51\n"
          ]
        },
        {
          "output_type": "display_data",
          "data": {
            "image/png": "[encoded data removed]",
            "text/plain": [
              "<Figure size 864x288 with 2 Axes>"
            ]
          },
          "metadata": {}
        }
      ]
    },
    {
      "cell_type": "markdown",
      "metadata": {
        "id": "sYdQEf-_si_2"
      },
      "source": [
        "### Time spent on fitness"
      ]
    },
    {
      "cell_type": "code",
      "metadata": {
        "colab": {
          "base_uri": "https://localhost:8080/",
          "height": 319
        },
        "id": "a3mDhbM-sZ7t",
        "outputId": "5a9847b2-f036-4921-9961-dd54129de30f"
      },
      "source": [
        "sns.boxplot(x=df['Time spent on fitness'])\n",
        "plt.axvline(df['Time spent on fitness'].mean(), c='y')"
      ],
      "execution_count": null,
      "outputs": [
        {
          "output_type": "execute_result",
          "data": {
            "text/plain": [
              "<matplotlib.lines.Line2D at 0x7fd0fd819390>"
            ]
          },
          "metadata": {},
          "execution_count": 43
        },
        {
          "output_type": "display_data",
          "data": {
            "image/png": "[encoded data removed]",
            "text/plain": [
              "<Figure size 432x288 with 1 Axes>"
            ]
          },
          "metadata": {}
        }
      ]
    },
    {
      "cell_type": "markdown",
      "metadata": {
        "id": "cBpuiHVbsrGi"
      },
      "source": [
        "### Time spent on sleep"
      ]
    },
    {
      "cell_type": "code",
      "metadata": {
        "colab": {
          "base_uri": "https://localhost:8080/",
          "height": 448
        },
        "id": "wt5DVxLLslwj",
        "outputId": "44a92e46-559e-4170-9083-bc9a988bf667"
      },
      "source": [
        "graphic_filter(df, 'Time spent on sleep', 1.5)"
      ],
      "execution_count": null,
      "outputs": [
        {
          "output_type": "stream",
          "name": "stdout",
          "text": [
            "Media antes del filtro: 7.87\n",
            "Mediana antes del filtro: 8.0\n",
            "Desviación estándar antes del filtro: 1.62\n",
            "\n",
            "Media después del filtro: 7.69\n",
            "Mediana después del filtro: 8.0\n",
            "Desviación estándar después del filtro: 1.33\n"
          ]
        },
        {
          "output_type": "display_data",
          "data": {
            "image/png": "[encoded data removed]",
            "text/plain": [
              "<Figure size 864x288 with 2 Axes>"
            ]
          },
          "metadata": {}
        }
      ]
    },
    {
      "cell_type": "markdown",
      "metadata": {
        "id": "x30IlYor1ASf"
      },
      "source": [
        "### Time spent on sleep"
      ]
    },
    {
      "cell_type": "code",
      "metadata": {
        "colab": {
          "base_uri": "https://localhost:8080/",
          "height": 448
        },
        "id": "zKQA5bEf1ASg",
        "outputId": "8911e0f4-4ba1-4f4e-a030-bd58eee9659e"
      },
      "source": [
        "graphic_filter(df, 'Time spent on sleep', 1.5)"
      ],
      "execution_count": null,
      "outputs": [
        {
          "output_type": "stream",
          "name": "stdout",
          "text": [
            "Media antes del filtro: 7.87\n",
            "Mediana antes del filtro: 8.0\n",
            "Desviación estándar antes del filtro: 1.62\n",
            "\n",
            "Media después del filtro: 7.69\n",
            "Mediana después del filtro: 8.0\n",
            "Desviación estándar después del filtro: 1.33\n"
          ]
        },
        {
          "output_type": "display_data",
          "data": {
            "image/png": "[encoded data removed]",
            "text/plain": [
              "<Figure size 864x288 with 2 Axes>"
            ]
          },
          "metadata": {}
        }
      ]
    },
    {
      "cell_type": "markdown",
      "metadata": {
        "id": "VXrSWsZ6zflR"
      },
      "source": [
        "### Time spent on social media"
      ]
    },
    {
      "cell_type": "code",
      "metadata": {
        "colab": {
          "base_uri": "https://localhost:8080/",
          "height": 319
        },
        "id": "Eh6FU0Ik1ASh",
        "outputId": "096b569f-6bf2-4987-f040-484930c0857b"
      },
      "source": [
        "sns.boxplot(x=df['Time spent on social media'])\n",
        "plt.axvline(df['Time spent on social media'].mean(), c='y')"
      ],
      "execution_count": null,
      "outputs": [
        {
          "output_type": "execute_result",
          "data": {
            "text/plain": [
              "<matplotlib.lines.Line2D at 0x7fd0fdecb850>"
            ]
          },
          "metadata": {},
          "execution_count": 49
        },
        {
          "output_type": "display_data",
          "data": {
            "image/png": "[encoded data removed]",
            "text/plain": [
              "<Figure size 432x288 with 1 Axes>"
            ]
          },
          "metadata": {}
        }
      ]
    },
    {
      "cell_type": "markdown",
      "metadata": {
        "id": "u_Ki1ejYzmoj"
      },
      "source": [
        "### Time spent on TV"
      ]
    },
    {
      "cell_type": "code",
      "metadata": {
        "colab": {
          "base_uri": "https://localhost:8080/",
          "height": 319
        },
        "id": "onSAvJnfzit2",
        "outputId": "59ec7969-441c-46ac-f2a9-96f3c61a1df9"
      },
      "source": [
        "sns.boxplot(x=df['Time spent on TV'])\n",
        "plt.axvline(df['Time spent on TV'].mean(), c='y')"
      ],
      "execution_count": null,
      "outputs": [
        {
          "output_type": "execute_result",
          "data": {
            "text/plain": [
              "<matplotlib.lines.Line2D at 0x7fd0fdb68790>"
            ]
          },
          "metadata": {},
          "execution_count": 50
        },
        {
          "output_type": "display_data",
          "data": {
            "image/png": "[encoded data removed]",
            "text/plain": [
              "<Figure size 432x288 with 1 Axes>"
            ]
          },
          "metadata": {}
        }
      ]
    },
    {
      "cell_type": "markdown",
      "metadata": {
        "id": "2V_kVloq1KqW"
      },
      "source": [
        "### Number of meals per day"
      ]
    },
    {
      "cell_type": "code",
      "metadata": {
        "colab": {
          "base_uri": "https://localhost:8080/",
          "height": 448
        },
        "id": "MdzVilEy1Mmd",
        "outputId": "9e113400-5ae3-4d5d-f15f-8cf946281ba9"
      },
      "source": [
        "graphic_filter(df, 'Number of meals per day', 2.5)"
      ],
      "execution_count": null,
      "outputs": [
        {
          "output_type": "stream",
          "name": "stdout",
          "text": [
            "Media antes del filtro: 2.92\n",
            "Mediana antes del filtro: 3.0\n",
            "Desviación estándar antes del filtro: 0.83\n",
            "\n",
            "Media después del filtro: 2.89\n",
            "Mediana después del filtro: 3.0\n",
            "Desviación estándar después del filtro: 0.77\n"
          ]
        },
        {
          "output_type": "display_data",
          "data": {
            "image/png": "[encoded data removed]",
            "text/plain": [
              "<Figure size 864x288 with 2 Axes>"
            ]
          },
          "metadata": {}
        }
      ]
    },
    {
      "cell_type": "markdown",
      "metadata": {
        "id": "BpQTPewg1YBH"
      },
      "source": [
        "Ahora para todas nuestras columnas, tomando como filtro estándar el valor de 1.5 veces el rango intercuartílico inferior y superior, la media, mediana y desviación de las variables se modifican como sigue:"
      ]
    },
    {
      "cell_type": "code",
      "metadata": {
        "id": "_ZlO8oZj1NOr"
      },
      "source": [
        "def removeOutliers(data, col):\n",
        "    Q3 = np.quantile(data[col], 0.75)\n",
        "    Q1 = np.quantile(data[col], 0.25)\n",
        "    IQR = Q3 - Q1\n",
        "     \n",
        "    global outlier_free_list\n",
        "    global filtered_data\n",
        "     \n",
        "    lower_range = Q1 - 1.5 * IQR\n",
        "    upper_range = Q3 + 1.5 * IQR\n",
        "    outlier_free_list = [x for x in data[col] if (\n",
        "        (x > lower_range) & (x < upper_range))]\n",
        "    filtered_data = data.loc[data[col].isin(outlier_free_list)]\n",
        " \n",
        " \n",
        "for i in df_num.columns:\n",
        "    removeOutliers(df_num, i)"
      ],
      "execution_count": null,
      "outputs": []
    },
    {
      "cell_type": "code",
      "metadata": {
        "colab": {
          "base_uri": "https://localhost:8080/"
        },
        "id": "X5ixtala1rmn",
        "outputId": "e2bdc496-f53d-4c51-d9d5-21dc29466d77"
      },
      "source": [
        "df_num.mean()\n",
        "filtered_data.mean()"
      ],
      "execution_count": null,
      "outputs": [
        {
          "output_type": "execute_result",
          "data": {
            "text/plain": [
              "Age of Subject                20.165821\n",
              "Time spent on Online Class     3.208841\n",
              "Time spent on self study       2.911591\n",
              "Time spent on fitness          0.765821\n",
              "Time spent on sleep            7.871235\n",
              "Time spent on social media     2.365694\n",
              "Time spent on TV               1.013959\n",
              "Number of meals per day        2.917936\n",
              "dtype: float64"
            ]
          },
          "metadata": {},
          "execution_count": 59
        }
      ]
    },
    {
      "cell_type": "markdown",
      "metadata": {
        "id": "qXaetId_4AbA"
      },
      "source": [
        "## Tablas de Frecuencia e histogramas"
      ]
    },
    {
      "cell_type": "markdown",
      "metadata": {
        "id": "N7stPgfG4G5A"
      },
      "source": [
        "Ahora observamos la distribución de las variables y segmentamos nuestros datos basándonos en su rango."
      ]
    },
    {
      "cell_type": "markdown",
      "metadata": {
        "id": "zQQilgeP43dw"
      },
      "source": [
        "### Age"
      ]
    },
    {
      "cell_type": "code",
      "metadata": {
        "colab": {
          "base_uri": "https://localhost:8080/"
        },
        "id": "hNWStTmP1rrF",
        "outputId": "aec92c02-8dd6-4e0e-8c8d-8bbf7776a10a"
      },
      "source": [
        "ages = df_num['Age of Subject']\n",
        "ages.max() - ages.min()"
      ],
      "execution_count": null,
      "outputs": [
        {
          "output_type": "execute_result",
          "data": {
            "text/plain": [
              "52"
            ]
          },
          "metadata": {},
          "execution_count": 60
        }
      ]
    },
    {
      "cell_type": "code",
      "metadata": {
        "colab": {
          "base_uri": "https://localhost:8080/"
        },
        "id": "nhWRa_9e4M69",
        "outputId": "832165e9-7025-4d43-ce7c-040a2301fb87"
      },
      "source": [
        "segmentos = pd.cut(ages, 5)\n",
        "ages.groupby(segmentos).count()"
      ],
      "execution_count": null,
      "outputs": [
        {
          "output_type": "execute_result",
          "data": {
            "text/plain": [
              "Age of Subject\n",
              "(6.948, 17.4]    302\n",
              "(17.4, 27.8]     793\n",
              "(27.8, 38.2]      63\n",
              "(38.2, 48.6]      21\n",
              "(48.6, 59.0]       3\n",
              "Name: Age of Subject, dtype: int64"
            ]
          },
          "metadata": {},
          "execution_count": 61
        }
      ]
    },
    {
      "cell_type": "code",
      "metadata": {
        "colab": {
          "base_uri": "https://localhost:8080/",
          "height": 321
        },
        "id": "Qj85WE6U4VOJ",
        "outputId": "e3c00a8d-3466-43ed-d52a-1f97a9d44467"
      },
      "source": [
        "sns.set(style='whitegrid')\n",
        "print('Curtosis:', kurtosis( ages ))\n",
        "print('Asimetría:', skew( ages ));\n",
        "sns.histplot(ages, kde=False, bins=26);"
      ],
      "execution_count": null,
      "outputs": [
        {
          "output_type": "stream",
          "name": "stdout",
          "text": [
            "Curtosis: 6.946326833470083\n",
            "Asimetría: 1.9425240356161668\n"
          ]
        },
        {
          "output_type": "display_data",
          "data": {
            "image/png": "[encoded data removed]",
            "text/plain": [
              "<Figure size 432x288 with 1 Axes>"
            ]
          },
          "metadata": {}
        }
      ]
    },
    {
      "cell_type": "markdown",
      "metadata": {
        "id": "barMUE8b5U3H"
      },
      "source": [
        "### Time spent on online class"
      ]
    },
    {
      "cell_type": "code",
      "metadata": {
        "colab": {
          "base_uri": "https://localhost:8080/"
        },
        "id": "Kih61yqp4r-V",
        "outputId": "889bcf15-bb77-4c9a-842b-d56c1c46e5a0"
      },
      "source": [
        "online_class = df_num['Time spent on Online Class']\n",
        "online_class.max() - online_class.min()"
      ],
      "execution_count": null,
      "outputs": [
        {
          "output_type": "execute_result",
          "data": {
            "text/plain": [
              "10.0"
            ]
          },
          "metadata": {},
          "execution_count": 134
        }
      ]
    },
    {
      "cell_type": "code",
      "metadata": {
        "colab": {
          "base_uri": "https://localhost:8080/"
        },
        "id": "d71euIAx6UEq",
        "outputId": "1935d0cc-5a6a-418a-f082-06e93a981fdb"
      },
      "source": [
        "segmentos = pd.cut(online_class, 11)\n",
        "online_class.groupby(segmentos).count()"
      ],
      "execution_count": null,
      "outputs": [
        {
          "output_type": "execute_result",
          "data": {
            "text/plain": [
              "Time spent on Online Class\n",
              "(-0.01, 0.909]    152\n",
              "(0.909, 1.818]    119\n",
              "(1.818, 2.727]    203\n",
              "(2.727, 3.636]    178\n",
              "(3.636, 4.545]    222\n",
              "(4.545, 5.455]    142\n",
              "(5.455, 6.364]     94\n",
              "(6.364, 7.273]     31\n",
              "(7.273, 8.182]     32\n",
              "(8.182, 9.091]      5\n",
              "(9.091, 10.0]       4\n",
              "Name: Time spent on Online Class, dtype: int64"
            ]
          },
          "metadata": {},
          "execution_count": 135
        }
      ]
    },
    {
      "cell_type": "code",
      "metadata": {
        "colab": {
          "base_uri": "https://localhost:8080/",
          "height": 321
        },
        "id": "Kf7QmvNQ6UEs",
        "outputId": "6d8c8c47-0db1-46d9-e706-aca6e0ee32f3"
      },
      "source": [
        "sns.set(style='whitegrid')\n",
        "print('Curtosis:', kurtosis( online_class ))\n",
        "print('Asimetría:', skew( online_class ));\n",
        "sns.histplot( online_class, kde=False, binwidth=1);"
      ],
      "execution_count": null,
      "outputs": [
        {
          "output_type": "stream",
          "name": "stdout",
          "text": [
            "Curtosis: -0.28534268692762543\n",
            "Asimetría: 0.3656476758396127\n"
          ]
        },
        {
          "output_type": "display_data",
          "data": {
            "image/png": "[encoded data removed]",
            "text/plain": [
              "<Figure size 432x288 with 1 Axes>"
            ]
          },
          "metadata": {}
        }
      ]
    },
    {
      "cell_type": "markdown",
      "metadata": {
        "id": "xk7mDdDA7FkQ"
      },
      "source": [
        "### Time spent on self study"
      ]
    },
    {
      "cell_type": "code",
      "metadata": {
        "colab": {
          "base_uri": "https://localhost:8080/"
        },
        "id": "Mk1Htyx77JZT",
        "outputId": "ed7d7fad-3787-449e-b516-ef7d457ab231"
      },
      "source": [
        "self_study = df_num['Time spent on self study']\n",
        "self_study.max() - self_study.min()"
      ],
      "execution_count": null,
      "outputs": [
        {
          "output_type": "execute_result",
          "data": {
            "text/plain": [
              "18.0"
            ]
          },
          "metadata": {},
          "execution_count": 141
        }
      ]
    },
    {
      "cell_type": "code",
      "metadata": {
        "colab": {
          "base_uri": "https://localhost:8080/"
        },
        "id": "Yo5IoOOm7JZU",
        "outputId": "6a97706b-2e7f-4165-9094-4c14b0555697"
      },
      "source": [
        "segmentos = pd.cut(self_study, 9)\n",
        "self_study.groupby(segmentos).count()"
      ],
      "execution_count": null,
      "outputs": [
        {
          "output_type": "execute_result",
          "data": {
            "text/plain": [
              "Time spent on self study\n",
              "(-0.018, 2.0]    619\n",
              "(2.0, 4.0]       364\n",
              "(4.0, 6.0]       130\n",
              "(6.0, 8.0]        44\n",
              "(8.0, 10.0]       17\n",
              "(10.0, 12.0]       6\n",
              "(12.0, 14.0]       0\n",
              "(14.0, 16.0]       0\n",
              "(16.0, 18.0]       2\n",
              "Name: Time spent on self study, dtype: int64"
            ]
          },
          "metadata": {},
          "execution_count": 142
        }
      ]
    },
    {
      "cell_type": "code",
      "metadata": {
        "colab": {
          "base_uri": "https://localhost:8080/",
          "height": 321
        },
        "id": "qof7bk0i7JZV",
        "outputId": "73834fc7-8c2f-4da1-fb1d-920501a94680"
      },
      "source": [
        "sns.set(style='whitegrid')\n",
        "print('Curtosis:', kurtosis( self_study ))\n",
        "print('Asimetría:', skew( self_study ));\n",
        "sns.histplot( self_study, kde=False, binwidth=1);"
      ],
      "execution_count": null,
      "outputs": [
        {
          "output_type": "stream",
          "name": "stdout",
          "text": [
            "Curtosis: 5.423180197902429\n",
            "Asimetría: 1.730514213791227\n"
          ]
        },
        {
          "output_type": "display_data",
          "data": {
            "image/png": "[encoded data removed]",
            "text/plain": [
              "<Figure size 432x288 with 1 Axes>"
            ]
          },
          "metadata": {}
        }
      ]
    },
    {
      "cell_type": "markdown",
      "metadata": {
        "id": "apyGj-3T8Nmi"
      },
      "source": [
        "### Time spent on fitness"
      ]
    },
    {
      "cell_type": "code",
      "metadata": {
        "colab": {
          "base_uri": "https://localhost:8080/"
        },
        "id": "urH1H3sS8Qjk",
        "outputId": "ea0814c7-64df-4ebd-81e4-ab446b54e590"
      },
      "source": [
        "fitness = df_num['Time spent on fitness']\n",
        "fitness.max() - fitness.min()"
      ],
      "execution_count": null,
      "outputs": [
        {
          "output_type": "execute_result",
          "data": {
            "text/plain": [
              "5.0"
            ]
          },
          "metadata": {},
          "execution_count": 145
        }
      ]
    },
    {
      "cell_type": "code",
      "metadata": {
        "colab": {
          "base_uri": "https://localhost:8080/"
        },
        "id": "K9fMTarK8Qjl",
        "outputId": "e55b6a06-27b6-4935-c5bb-d63ee41cf3f1"
      },
      "source": [
        "segmentos = pd.cut(fitness, 6)\n",
        "fitness.groupby(segmentos).count()"
      ],
      "execution_count": null,
      "outputs": [
        {
          "output_type": "execute_result",
          "data": {
            "text/plain": [
              "Time spent on fitness\n",
              "(-0.005, 0.833]    485\n",
              "(0.833, 1.667]     550\n",
              "(1.667, 2.5]       120\n",
              "(2.5, 3.333]        25\n",
              "(3.333, 4.167]       1\n",
              "(4.167, 5.0]         1\n",
              "Name: Time spent on fitness, dtype: int64"
            ]
          },
          "metadata": {},
          "execution_count": 146
        }
      ]
    },
    {
      "cell_type": "code",
      "metadata": {
        "colab": {
          "base_uri": "https://localhost:8080/",
          "height": 321
        },
        "id": "p8HkQsww8Qjm",
        "outputId": "a8ee76cf-fad8-4fc3-eb10-bc61c891114f"
      },
      "source": [
        "sns.set(style='whitegrid')\n",
        "print('Curtosis:', kurtosis( fitness ))\n",
        "print('Asimetría:', skew( fitness ));\n",
        "sns.histplot( fitness, kde=False, binwidth=1);"
      ],
      "execution_count": null,
      "outputs": [
        {
          "output_type": "stream",
          "name": "stdout",
          "text": [
            "Curtosis: 1.5705858379298991\n",
            "Asimetría: 0.9669438302120138\n"
          ]
        },
        {
          "output_type": "display_data",
          "data": {
            "image/png": "[encoded data removed]",
            "text/plain": [
              "<Figure size 432x288 with 1 Axes>"
            ]
          },
          "metadata": {}
        }
      ]
    },
    {
      "cell_type": "markdown",
      "metadata": {
        "id": "V0RRuJQ29Er3"
      },
      "source": [
        "### Time spent on sleep"
      ]
    },
    {
      "cell_type": "code",
      "metadata": {
        "colab": {
          "base_uri": "https://localhost:8080/"
        },
        "id": "EKlDEel69HpU",
        "outputId": "9445f043-1dd2-423e-8dc5-6ea36f659fa1"
      },
      "source": [
        "sleep = df_num['Time spent on sleep']\n",
        "sleep.max() - sleep.min()"
      ],
      "execution_count": null,
      "outputs": [
        {
          "output_type": "execute_result",
          "data": {
            "text/plain": [
              "11.0"
            ]
          },
          "metadata": {},
          "execution_count": 150
        }
      ]
    },
    {
      "cell_type": "code",
      "metadata": {
        "colab": {
          "base_uri": "https://localhost:8080/"
        },
        "id": "Y65rGMG-9HpW",
        "outputId": "2586c590-efcd-4cae-d46a-c50c85fd599a"
      },
      "source": [
        "segmentos = pd.cut(sleep, 11)\n",
        "sleep.groupby(segmentos).count()"
      ],
      "execution_count": null,
      "outputs": [
        {
          "output_type": "execute_result",
          "data": {
            "text/plain": [
              "Time spent on sleep\n",
              "(3.989, 5.0]     51\n",
              "(5.0, 6.0]      171\n",
              "(6.0, 7.0]      260\n",
              "(7.0, 8.0]      395\n",
              "(8.0, 9.0]      134\n",
              "(9.0, 10.0]      96\n",
              "(10.0, 11.0]     25\n",
              "(11.0, 12.0]     42\n",
              "(12.0, 13.0]      5\n",
              "(13.0, 14.0]      2\n",
              "(14.0, 15.0]      1\n",
              "Name: Time spent on sleep, dtype: int64"
            ]
          },
          "metadata": {},
          "execution_count": 151
        }
      ]
    },
    {
      "cell_type": "code",
      "metadata": {
        "colab": {
          "base_uri": "https://localhost:8080/",
          "height": 321
        },
        "id": "8FOzlJ0e9HpW",
        "outputId": "e61a614b-c85d-4686-bf7f-4b859d43f811"
      },
      "source": [
        "sns.set(style='whitegrid')\n",
        "print('Curtosis:', kurtosis( sleep ))\n",
        "print('Asimetría:', skew( sleep ));\n",
        "sns.histplot( sleep, kde=False, binwidth=1);"
      ],
      "execution_count": null,
      "outputs": [
        {
          "output_type": "stream",
          "name": "stdout",
          "text": [
            "Curtosis: 0.9982916835712357\n",
            "Asimetría: 0.7345656898907925\n"
          ]
        },
        {
          "output_type": "display_data",
          "data": {
            "image/png": "[encoded data removed]",
            "text/plain": [
              "<Figure size 432x288 with 1 Axes>"
            ]
          },
          "metadata": {}
        }
      ]
    },
    {
      "cell_type": "markdown",
      "metadata": {
        "id": "EdqEyOQG9aM2"
      },
      "source": [
        "### Time spent on social media"
      ]
    },
    {
      "cell_type": "code",
      "metadata": {
        "colab": {
          "base_uri": "https://localhost:8080/"
        },
        "id": "A2JxKMX69cJH",
        "outputId": "c3a03965-f55a-46f5-ae4f-f1a105e8a316"
      },
      "source": [
        "social_media = df_num['Time spent on social media']\n",
        "social_media.max() - social_media.min()"
      ],
      "execution_count": null,
      "outputs": [
        {
          "output_type": "execute_result",
          "data": {
            "text/plain": [
              "10.0"
            ]
          },
          "metadata": {},
          "execution_count": 153
        }
      ]
    },
    {
      "cell_type": "code",
      "metadata": {
        "colab": {
          "base_uri": "https://localhost:8080/"
        },
        "id": "tz9JhMcy9cJJ",
        "outputId": "8e9322dc-ded2-4b86-dd54-27d40ab24bf9"
      },
      "source": [
        "segmentos = pd.cut(social_media, 11)\n",
        "social_media.groupby(segmentos).count()"
      ],
      "execution_count": null,
      "outputs": [
        {
          "output_type": "execute_result",
          "data": {
            "text/plain": [
              "Time spent on social media\n",
              "(-0.01, 0.909]     82\n",
              "(0.909, 1.818]    359\n",
              "(1.818, 2.727]    335\n",
              "(2.727, 3.636]    170\n",
              "(3.636, 4.545]    112\n",
              "(4.545, 5.455]     58\n",
              "(5.455, 6.364]     29\n",
              "(6.364, 7.273]     10\n",
              "(7.273, 8.182]     11\n",
              "(8.182, 9.091]      2\n",
              "(9.091, 10.0]      14\n",
              "Name: Time spent on social media, dtype: int64"
            ]
          },
          "metadata": {},
          "execution_count": 154
        }
      ]
    },
    {
      "cell_type": "code",
      "metadata": {
        "colab": {
          "base_uri": "https://localhost:8080/",
          "height": 321
        },
        "id": "__tk1rVT9cJJ",
        "outputId": "f719f74f-d2c6-4995-9716-0e6109168c50"
      },
      "source": [
        "sns.set(style='whitegrid')\n",
        "print('Curtosis:', kurtosis( social_media ))\n",
        "print('Asimetría:', skew( social_media ));\n",
        "sns.histplot( social_media, kde=False, binwidth=1);"
      ],
      "execution_count": null,
      "outputs": [
        {
          "output_type": "stream",
          "name": "stdout",
          "text": [
            "Curtosis: 3.8425947214149367\n",
            "Asimetría: 1.69714957696885\n"
          ]
        },
        {
          "output_type": "display_data",
          "data": {
            "image/png": "[encoded data removed]",
            "text/plain": [
              "<Figure size 432x288 with 1 Axes>"
            ]
          },
          "metadata": {}
        }
      ]
    },
    {
      "cell_type": "markdown",
      "metadata": {
        "id": "CNtQq4MK92Qj"
      },
      "source": [
        "### Time spent on TV"
      ]
    },
    {
      "cell_type": "code",
      "metadata": {
        "colab": {
          "base_uri": "https://localhost:8080/"
        },
        "id": "ZoAkxTI493oW",
        "outputId": "2686af7d-61a2-4fee-eb59-a8a2c88b8b50"
      },
      "source": [
        "tv = df_num['Time spent on TV']\n",
        "tv.max() - tv.min()"
      ],
      "execution_count": null,
      "outputs": [
        {
          "output_type": "execute_result",
          "data": {
            "text/plain": [
              "15.0"
            ]
          },
          "metadata": {},
          "execution_count": 156
        }
      ]
    },
    {
      "cell_type": "code",
      "metadata": {
        "colab": {
          "base_uri": "https://localhost:8080/"
        },
        "id": "1p0ShpKm93oY",
        "outputId": "5665f9a9-7287-42d7-fa3c-d186dde3c05a"
      },
      "source": [
        "segmentos = pd.cut(tv, 8)\n",
        "tv.groupby(segmentos).count()"
      ],
      "execution_count": null,
      "outputs": [
        {
          "output_type": "execute_result",
          "data": {
            "text/plain": [
              "Time spent on TV\n",
              "(-0.015, 1.875]    872\n",
              "(1.875, 3.75]      260\n",
              "(3.75, 5.625]       36\n",
              "(5.625, 7.5]        11\n",
              "(7.5, 9.375]         2\n",
              "(9.375, 11.25]       0\n",
              "(11.25, 13.125]      0\n",
              "(13.125, 15.0]       1\n",
              "Name: Time spent on TV, dtype: int64"
            ]
          },
          "metadata": {},
          "execution_count": 157
        }
      ]
    },
    {
      "cell_type": "code",
      "metadata": {
        "colab": {
          "base_uri": "https://localhost:8080/",
          "height": 321
        },
        "id": "tPWKaVcP93oY",
        "outputId": "98999dc1-eca9-4dae-b6d6-c4d7eba36c07"
      },
      "source": [
        "sns.set(style='whitegrid')\n",
        "print('Curtosis:', kurtosis( tv ))\n",
        "print('Asimetría:', skew( tv ));\n",
        "sns.histplot( tv, kde=False, binwidth=1);"
      ],
      "execution_count": null,
      "outputs": [
        {
          "output_type": "stream",
          "name": "stdout",
          "text": [
            "Curtosis: 15.867575159546323\n",
            "Asimetría: 2.681661735980467\n"
          ]
        },
        {
          "output_type": "display_data",
          "data": {
            "image/png": "[encoded data removed]",
            "text/plain": [
              "<Figure size 432x288 with 1 Axes>"
            ]
          },
          "metadata": {}
        }
      ]
    },
    {
      "cell_type": "markdown",
      "metadata": {
        "id": "XHj6evtN-UvW"
      },
      "source": [
        "### Number of meals per day"
      ]
    },
    {
      "cell_type": "code",
      "metadata": {
        "colab": {
          "base_uri": "https://localhost:8080/"
        },
        "id": "uxIjjWSU-W4P",
        "outputId": "4a53b459-69f9-426d-95d6-38c4742969f3"
      },
      "source": [
        "meals = df_num['Number of meals per day']\n",
        "meals.max() - meals.min()"
      ],
      "execution_count": null,
      "outputs": [
        {
          "output_type": "execute_result",
          "data": {
            "text/plain": [
              "7"
            ]
          },
          "metadata": {},
          "execution_count": 159
        }
      ]
    },
    {
      "cell_type": "code",
      "metadata": {
        "colab": {
          "base_uri": "https://localhost:8080/"
        },
        "id": "srxor9dI-W4R",
        "outputId": "b7e578ae-3e37-4ec4-dab1-176465bcbda5"
      },
      "source": [
        "segmentos = pd.cut(meals, 7)\n",
        "meals.groupby(segmentos).count()"
      ],
      "execution_count": null,
      "outputs": [
        {
          "output_type": "execute_result",
          "data": {
            "text/plain": [
              "Number of meals per day\n",
              "(0.993, 2.0]    328\n",
              "(2.0, 3.0]      610\n",
              "(3.0, 4.0]      229\n",
              "(4.0, 5.0]        8\n",
              "(5.0, 6.0]        2\n",
              "(6.0, 7.0]        4\n",
              "(7.0, 8.0]        1\n",
              "Name: Number of meals per day, dtype: int64"
            ]
          },
          "metadata": {},
          "execution_count": 160
        }
      ]
    },
    {
      "cell_type": "code",
      "metadata": {
        "colab": {
          "base_uri": "https://localhost:8080/",
          "height": 321
        },
        "id": "FnYH8PyX-W4R",
        "outputId": "db06cc41-e9b2-4804-bfaf-28d196dbac7c"
      },
      "source": [
        "sns.set(style='whitegrid')\n",
        "print('Curtosis:', kurtosis( meals ))\n",
        "print('Asimetría:', skew( meals ));\n",
        "sns.histplot( meals, kde=False, binwidth=1);"
      ],
      "execution_count": null,
      "outputs": [
        {
          "output_type": "stream",
          "name": "stdout",
          "text": [
            "Curtosis: 2.7161073375577365\n",
            "Asimetría: 0.46638140614890444\n"
          ]
        },
        {
          "output_type": "display_data",
          "data": {
            "image/png": "[encoded data removed]",
            "text/plain": [
              "<Figure size 432x288 with 1 Axes>"
            ]
          },
          "metadata": {}
        }
      ]
    },
    {
      "cell_type": "markdown",
      "metadata": {
        "id": "NZJVksss_x_P"
      },
      "source": [
        "## Gráficos de densidad"
      ]
    },
    {
      "cell_type": "markdown",
      "metadata": {
        "id": "i8-N49Y-A_-y"
      },
      "source": [
        "Vamos a usar como categoría el medio que se usa para las clases en línea"
      ]
    },
    {
      "cell_type": "code",
      "metadata": {
        "colab": {
          "base_uri": "https://localhost:8080/"
        },
        "id": "G-Hsr3k9-UAW",
        "outputId": "97984144-177e-4af4-ae7d-d672e729f840"
      },
      "source": [
        "df['Medium for online class'].unique()"
      ],
      "execution_count": null,
      "outputs": [
        {
          "output_type": "execute_result",
          "data": {
            "text/plain": [
              "array(['Laptop/Desktop', 'Smartphone', 'Tablet', 'No medium',\n",
              "       'Any Gadget', 'Smartphone or Laptop/Desktop'], dtype=object)"
            ]
          },
          "metadata": {},
          "execution_count": 162
        }
      ]
    },
    {
      "cell_type": "code",
      "metadata": {
        "id": "v3K2WT34BHTO"
      },
      "source": [
        "df_group = df.groupby('Age of Subject')['Time spent on Online Class', 'Time spent on self study'].mean()"
      ],
      "execution_count": null,
      "outputs": []
    },
    {
      "cell_type": "code",
      "metadata": {
        "id": "sck6VRSJBb8H"
      },
      "source": [
        "df_medium = df.groupby('Age of Subject')['Medium for online class'].last()"
      ],
      "execution_count": null,
      "outputs": []
    },
    {
      "cell_type": "code",
      "metadata": {
        "colab": {
          "base_uri": "https://localhost:8080/",
          "height": 394
        },
        "id": "rTmCOaehBQv9",
        "outputId": "c41e02c9-5514-4887-a09b-55996bb23e96"
      },
      "source": [
        "df_fusion = df_group.merge(df_medium, left_index=True, right_index=True)\n",
        "df_fusion.head(10)"
      ],
      "execution_count": null,
      "outputs": [
        {
          "output_type": "execute_result",
          "data": {
            "text/html": [
              "<div>\n",
              "<style scoped>\n",
              "    .dataframe tbody tr th:only-of-type {\n",
              "        vertical-align: middle;\n",
              "    }\n",
              "\n",
              "    .dataframe tbody tr th {\n",
              "        vertical-align: top;\n",
              "    }\n",
              "\n",
              "    .dataframe thead th {\n",
              "        text-align: right;\n",
              "    }\n",
              "</style>\n",
              "<table border=\"1\" class=\"dataframe\">\n",
              "  <thead>\n",
              "    <tr style=\"text-align: right;\">\n",
              "      <th></th>\n",
              "      <th>Time spent on Online Class</th>\n",
              "      <th>Time spent on self study</th>\n",
              "      <th>Medium for online class</th>\n",
              "    </tr>\n",
              "    <tr>\n",
              "      <th>Age of Subject</th>\n",
              "      <th></th>\n",
              "      <th></th>\n",
              "      <th></th>\n",
              "    </tr>\n",
              "  </thead>\n",
              "  <tbody>\n",
              "    <tr>\n",
              "      <th>7</th>\n",
              "      <td>2.000000</td>\n",
              "      <td>2.000000</td>\n",
              "      <td>Smartphone</td>\n",
              "    </tr>\n",
              "    <tr>\n",
              "      <th>8</th>\n",
              "      <td>2.000000</td>\n",
              "      <td>1.500000</td>\n",
              "      <td>Laptop/Desktop</td>\n",
              "    </tr>\n",
              "    <tr>\n",
              "      <th>9</th>\n",
              "      <td>3.000000</td>\n",
              "      <td>1.500000</td>\n",
              "      <td>Smartphone or Laptop/Desktop</td>\n",
              "    </tr>\n",
              "    <tr>\n",
              "      <th>10</th>\n",
              "      <td>4.000000</td>\n",
              "      <td>2.250000</td>\n",
              "      <td>Smartphone</td>\n",
              "    </tr>\n",
              "    <tr>\n",
              "      <th>11</th>\n",
              "      <td>3.333333</td>\n",
              "      <td>1.666667</td>\n",
              "      <td>Smartphone</td>\n",
              "    </tr>\n",
              "    <tr>\n",
              "      <th>12</th>\n",
              "      <td>3.741379</td>\n",
              "      <td>2.368966</td>\n",
              "      <td>Smartphone</td>\n",
              "    </tr>\n",
              "    <tr>\n",
              "      <th>13</th>\n",
              "      <td>3.890625</td>\n",
              "      <td>2.520833</td>\n",
              "      <td>Tablet</td>\n",
              "    </tr>\n",
              "    <tr>\n",
              "      <th>14</th>\n",
              "      <td>4.406250</td>\n",
              "      <td>2.527083</td>\n",
              "      <td>Laptop/Desktop</td>\n",
              "    </tr>\n",
              "    <tr>\n",
              "      <th>15</th>\n",
              "      <td>4.594595</td>\n",
              "      <td>3.689189</td>\n",
              "      <td>Tablet</td>\n",
              "    </tr>\n",
              "    <tr>\n",
              "      <th>16</th>\n",
              "      <td>4.974627</td>\n",
              "      <td>3.059701</td>\n",
              "      <td>Laptop/Desktop</td>\n",
              "    </tr>\n",
              "  </tbody>\n",
              "</table>\n",
              "</div>"
            ],
            "text/plain": [
              "                Time spent on Online Class  ...       Medium for online class\n",
              "Age of Subject                              ...                              \n",
              "7                                 2.000000  ...                    Smartphone\n",
              "8                                 2.000000  ...                Laptop/Desktop\n",
              "9                                 3.000000  ...  Smartphone or Laptop/Desktop\n",
              "10                                4.000000  ...                    Smartphone\n",
              "11                                3.333333  ...                    Smartphone\n",
              "12                                3.741379  ...                    Smartphone\n",
              "13                                3.890625  ...                        Tablet\n",
              "14                                4.406250  ...                Laptop/Desktop\n",
              "15                                4.594595  ...                        Tablet\n",
              "16                                4.974627  ...                Laptop/Desktop\n",
              "\n",
              "[10 rows x 3 columns]"
            ]
          },
          "metadata": {},
          "execution_count": 174
        }
      ]
    },
    {
      "cell_type": "code",
      "metadata": {
        "id": "SjOfIL8aDXhH"
      },
      "source": [
        "df_smartphone = df_fusion[df_fusion['Medium for online class']=='Smartphone']"
      ],
      "execution_count": null,
      "outputs": []
    },
    {
      "cell_type": "code",
      "metadata": {
        "id": "iTEJ0PolC3rX"
      },
      "source": [
        "tablet = df_fusion[df_fusion['Medium for online class']=='Tablet']"
      ],
      "execution_count": null,
      "outputs": []
    },
    {
      "cell_type": "code",
      "metadata": {
        "id": "TTQgOoQNFeEt"
      },
      "source": [
        "laptop = df_fusion[df_fusion['Medium for online class']=='Laptop/Desktop']"
      ],
      "execution_count": null,
      "outputs": []
    },
    {
      "cell_type": "code",
      "metadata": {
        "colab": {
          "base_uri": "https://localhost:8080/",
          "height": 319
        },
        "id": "2lcf6UwSDl61",
        "outputId": "0b20176d-e842-4b45-e227-923dfb2cf5ab"
      },
      "source": [
        "sns.distplot(df_smartphone['Time spent on Online Class'], hist = False, kde_kws = {'shade': True}, label='Smartphone')\n",
        "sns.distplot(tablet['Time spent on Online Class'], hist = False, kde_kws = {'shade': True}, label = 'Tablet')\n",
        "sns.distplot(laptop['Time spent on Online Class'], hist = False, kde_kws = {'shade': True}, label = 'Laptop/Desktop')\n",
        "plt.legend()\n",
        "plt.title('Gráfica de densidad de tiempo en clases en línea')"
      ],
      "execution_count": null,
      "outputs": [
        {
          "output_type": "execute_result",
          "data": {
            "text/plain": [
              "Text(0.5, 1.0, 'Gráfica de densidad de tiempo en clases en línea')"
            ]
          },
          "metadata": {},
          "execution_count": 192
        },
        {
          "output_type": "display_data",
          "data": {
            "image/png": "[encoded data removed]",
            "text/plain": [
              "<Figure size 432x288 with 1 Axes>"
            ]
          },
          "metadata": {}
        }
      ]
    },
    {
      "cell_type": "markdown",
      "metadata": {
        "id": "RPJDEKSEG2l7"
      },
      "source": [
        "Notamos que la gente que usa smartphones y laptops o computadoras de escritorio para estudiar, pasan típicamente 3 horas estudiando, mientras que los de tablet estudian 4 horas al día"
      ]
    },
    {
      "cell_type": "code",
      "metadata": {
        "colab": {
          "base_uri": "https://localhost:8080/",
          "height": 319
        },
        "id": "FqAMMPmhEOz9",
        "outputId": "099d7ec5-86a5-4179-adb7-26b3bc13e910"
      },
      "source": [
        "sns.distplot(df_smartphone['Time spent on self study'], hist = False, kde_kws = {'shade': True}, label='Smartphone')\n",
        "sns.distplot(tablet['Time spent on self study'], hist = False, kde_kws = {'shade': True}, label = 'Tablet')\n",
        "sns.distplot(laptop['Time spent on self study'], hist = False, kde_kws = {'shade': True}, label = 'Laptop/Desktop')\n",
        "plt.legend()\n",
        "plt.title('Gráfica de densidad de horas de autoestudio')"
      ],
      "execution_count": null,
      "outputs": [
        {
          "output_type": "execute_result",
          "data": {
            "text/plain": [
              "Text(0.5, 1.0, 'Gráfica de densidad de horas de autoestudio')"
            ]
          },
          "metadata": {},
          "execution_count": 191
        },
        {
          "output_type": "display_data",
          "data": {
            "image/png": "[encoded data removed]",
            "text/plain": [
              "<Figure size 432x288 with 1 Axes>"
            ]
          },
          "metadata": {}
        }
      ]
    },
    {
      "cell_type": "markdown",
      "metadata": {
        "id": "2L1hv9OhHRU3"
      },
      "source": [
        "Aunque usando distintos dispositivos los estudiantes suelen a estudiar 3 horas por su cuenta, vemos que al usar tablets o smartphones aumenta la desviación estándar."
      ]
    },
    {
      "cell_type": "code",
      "metadata": {
        "id": "U9nchGrzGKMx"
      },
      "source": [
        "#Guardarémos el archivo limpio para usarlo posteriormente\n",
        "df.to_csv('/content/COVID-19 Survey Student Responses-clean.csv')"
      ],
      "execution_count": null,
      "outputs": []
    }
  ]
}