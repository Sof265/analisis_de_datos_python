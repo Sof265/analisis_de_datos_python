{
  "nbformat": 4,
  "nbformat_minor": 0,
  "metadata": {
    "colab": {
      "name": "Postwork_01.ipynb",
      "provenance": [],
      "collapsed_sections": []
    },
    "kernelspec": {
      "name": "python3",
      "display_name": "Python 3"
    },
    "language_info": {
      "name": "python"
    }
  },
  "cells": [
    {
      "cell_type": "markdown",
      "metadata": {
        "id": "vmC81vzPCVCT"
      },
      "source": [
        "# **01. Estimados de locación y variabilidad**"
      ]
    },
    {
      "cell_type": "code",
      "metadata": {
        "id": "oooarEUpD5Og"
      },
      "source": [
        "import pandas as pd\n",
        "from scipy import stats"
      ],
      "execution_count": 29,
      "outputs": []
    },
    {
      "cell_type": "markdown",
      "metadata": {
        "id": "5FlPtWV2DdRE"
      },
      "source": [
        "## Limpieza de datos"
      ]
    },
    {
      "cell_type": "code",
      "metadata": {
        "id": "U6WafaGfDoNQ"
      },
      "source": [
        "survey = pd.read_csv('/content/drive/MyDrive/BEDU/COVID-19 Survey Student Responses.csv')\n",
        "df = survey.copy()"
      ],
      "execution_count": 9,
      "outputs": []
    },
    {
      "cell_type": "code",
      "metadata": {
        "colab": {
          "base_uri": "https://localhost:8080/"
        },
        "id": "2x221PkMEC3L",
        "outputId": "aa380145-5866-4e6a-ed28-6ed37f74e2f4"
      },
      "source": [
        "df.isna().sum()"
      ],
      "execution_count": 10,
      "outputs": [
        {
          "output_type": "execute_result",
          "data": {
            "text/plain": [
              "ID                                                                                     0\n",
              "Region of residence                                                                    0\n",
              "Age of Subject                                                                         0\n",
              "Time spent on Online Class                                                             0\n",
              "Rating of Online Class experience                                                     24\n",
              "Medium for online class                                                               51\n",
              "Time spent on self study                                                               0\n",
              "Time spent on fitness                                                                  0\n",
              "Time spent on sleep                                                                    0\n",
              "Time spent on social media                                                             0\n",
              "Prefered social media platform                                                         0\n",
              "Time spent on TV                                                                       0\n",
              "Number of meals per day                                                                0\n",
              "Change in your weight                                                                  0\n",
              "Health issue during lockdown                                                           0\n",
              "Stress busters                                                                         0\n",
              "Time utilized                                                                          0\n",
              "Do you find yourself more connected with your family, close friends , relatives  ?     0\n",
              "What you miss the most                                                                 0\n",
              "dtype: int64"
            ]
          },
          "metadata": {},
          "execution_count": 10
        }
      ]
    },
    {
      "cell_type": "code",
      "metadata": {
        "id": "T3MKOnEMEhIu"
      },
      "source": [
        "df['Medium for online class'] = df['Medium for online class'].fillna('No medium')"
      ],
      "execution_count": 11,
      "outputs": []
    },
    {
      "cell_type": "code",
      "metadata": {
        "id": "Rty35kHZEl-c"
      },
      "source": [
        "df['Rating of Online Class experience'] = df['Rating of Online Class experience'].fillna('No rating')"
      ],
      "execution_count": 12,
      "outputs": []
    },
    {
      "cell_type": "markdown",
      "metadata": {
        "id": "d5e-Xc3NDOFd"
      },
      "source": [
        "## Identificación de las columnas del dataset con datos numéricos."
      ]
    },
    {
      "cell_type": "code",
      "metadata": {
        "colab": {
          "base_uri": "https://localhost:8080/",
          "height": 513
        },
        "id": "oPnrkA1bGB6p",
        "outputId": "1d3ff1f2-41c7-4a8b-bb95-fafcb2212390"
      },
      "source": [
        "df.head()"
      ],
      "execution_count": 14,
      "outputs": [
        {
          "output_type": "execute_result",
          "data": {
            "text/html": [
              "<div>\n",
              "<style scoped>\n",
              "    .dataframe tbody tr th:only-of-type {\n",
              "        vertical-align: middle;\n",
              "    }\n",
              "\n",
              "    .dataframe tbody tr th {\n",
              "        vertical-align: top;\n",
              "    }\n",
              "\n",
              "    .dataframe thead th {\n",
              "        text-align: right;\n",
              "    }\n",
              "</style>\n",
              "<table border=\"1\" class=\"dataframe\">\n",
              "  <thead>\n",
              "    <tr style=\"text-align: right;\">\n",
              "      <th></th>\n",
              "      <th>ID</th>\n",
              "      <th>Region of residence</th>\n",
              "      <th>Age of Subject</th>\n",
              "      <th>Time spent on Online Class</th>\n",
              "      <th>Rating of Online Class experience</th>\n",
              "      <th>Medium for online class</th>\n",
              "      <th>Time spent on self study</th>\n",
              "      <th>Time spent on fitness</th>\n",
              "      <th>Time spent on sleep</th>\n",
              "      <th>Time spent on social media</th>\n",
              "      <th>Prefered social media platform</th>\n",
              "      <th>Time spent on TV</th>\n",
              "      <th>Number of meals per day</th>\n",
              "      <th>Change in your weight</th>\n",
              "      <th>Health issue during lockdown</th>\n",
              "      <th>Stress busters</th>\n",
              "      <th>Time utilized</th>\n",
              "      <th>Do you find yourself more connected with your family, close friends , relatives  ?</th>\n",
              "      <th>What you miss the most</th>\n",
              "    </tr>\n",
              "  </thead>\n",
              "  <tbody>\n",
              "    <tr>\n",
              "      <th>0</th>\n",
              "      <td>R1</td>\n",
              "      <td>Delhi-NCR</td>\n",
              "      <td>21</td>\n",
              "      <td>2.0</td>\n",
              "      <td>Good</td>\n",
              "      <td>Laptop/Desktop</td>\n",
              "      <td>4.0</td>\n",
              "      <td>0.0</td>\n",
              "      <td>7.0</td>\n",
              "      <td>3.0</td>\n",
              "      <td>Linkedin</td>\n",
              "      <td>1</td>\n",
              "      <td>4</td>\n",
              "      <td>Increased</td>\n",
              "      <td>NO</td>\n",
              "      <td>Cooking</td>\n",
              "      <td>YES</td>\n",
              "      <td>YES</td>\n",
              "      <td>School/college</td>\n",
              "    </tr>\n",
              "    <tr>\n",
              "      <th>1</th>\n",
              "      <td>R2</td>\n",
              "      <td>Delhi-NCR</td>\n",
              "      <td>21</td>\n",
              "      <td>0.0</td>\n",
              "      <td>Excellent</td>\n",
              "      <td>Smartphone</td>\n",
              "      <td>0.0</td>\n",
              "      <td>2.0</td>\n",
              "      <td>10.0</td>\n",
              "      <td>3.0</td>\n",
              "      <td>Youtube</td>\n",
              "      <td>0</td>\n",
              "      <td>3</td>\n",
              "      <td>Decreased</td>\n",
              "      <td>NO</td>\n",
              "      <td>Scrolling through social media</td>\n",
              "      <td>YES</td>\n",
              "      <td>NO</td>\n",
              "      <td>Roaming around freely</td>\n",
              "    </tr>\n",
              "    <tr>\n",
              "      <th>2</th>\n",
              "      <td>R3</td>\n",
              "      <td>Delhi-NCR</td>\n",
              "      <td>20</td>\n",
              "      <td>7.0</td>\n",
              "      <td>Very poor</td>\n",
              "      <td>Laptop/Desktop</td>\n",
              "      <td>3.0</td>\n",
              "      <td>0.0</td>\n",
              "      <td>6.0</td>\n",
              "      <td>2.0</td>\n",
              "      <td>Linkedin</td>\n",
              "      <td>0</td>\n",
              "      <td>3</td>\n",
              "      <td>Remain Constant</td>\n",
              "      <td>NO</td>\n",
              "      <td>Listening to music</td>\n",
              "      <td>NO</td>\n",
              "      <td>YES</td>\n",
              "      <td>Travelling</td>\n",
              "    </tr>\n",
              "    <tr>\n",
              "      <th>3</th>\n",
              "      <td>R4</td>\n",
              "      <td>Delhi-NCR</td>\n",
              "      <td>20</td>\n",
              "      <td>3.0</td>\n",
              "      <td>Very poor</td>\n",
              "      <td>Smartphone</td>\n",
              "      <td>2.0</td>\n",
              "      <td>1.0</td>\n",
              "      <td>6.0</td>\n",
              "      <td>5.0</td>\n",
              "      <td>Instagram</td>\n",
              "      <td>0</td>\n",
              "      <td>3</td>\n",
              "      <td>Decreased</td>\n",
              "      <td>NO</td>\n",
              "      <td>Watching web series</td>\n",
              "      <td>NO</td>\n",
              "      <td>NO</td>\n",
              "      <td>Friends , relatives</td>\n",
              "    </tr>\n",
              "    <tr>\n",
              "      <th>4</th>\n",
              "      <td>R5</td>\n",
              "      <td>Delhi-NCR</td>\n",
              "      <td>21</td>\n",
              "      <td>3.0</td>\n",
              "      <td>Good</td>\n",
              "      <td>Laptop/Desktop</td>\n",
              "      <td>3.0</td>\n",
              "      <td>1.0</td>\n",
              "      <td>8.0</td>\n",
              "      <td>3.0</td>\n",
              "      <td>Instagram</td>\n",
              "      <td>1</td>\n",
              "      <td>4</td>\n",
              "      <td>Remain Constant</td>\n",
              "      <td>NO</td>\n",
              "      <td>Social Media</td>\n",
              "      <td>NO</td>\n",
              "      <td>NO</td>\n",
              "      <td>Travelling</td>\n",
              "    </tr>\n",
              "  </tbody>\n",
              "</table>\n",
              "</div>"
            ],
            "text/plain": [
              "   ID  ... What you miss the most\n",
              "0  R1  ...         School/college\n",
              "1  R2  ...  Roaming around freely\n",
              "2  R3  ...             Travelling\n",
              "3  R4  ...    Friends , relatives\n",
              "4  R5  ...             Travelling\n",
              "\n",
              "[5 rows x 19 columns]"
            ]
          },
          "metadata": {},
          "execution_count": 14
        }
      ]
    },
    {
      "cell_type": "markdown",
      "metadata": {
        "id": "AfDvEa2TIGHx"
      },
      "source": [
        "La primera columna de interés para el análisis es `Age of subject`, es decir, las edades de los estudiantes encuestados. A partir de ella, nuestros datos numéricos son aquellos que no son de tipo objeto."
      ]
    },
    {
      "cell_type": "code",
      "metadata": {
        "colab": {
          "base_uri": "https://localhost:8080/"
        },
        "id": "kTGHtUf8IBgx",
        "outputId": "afc537fd-7e19-4df6-b230-bdb0a387054f"
      },
      "source": [
        "df.dtypes"
      ],
      "execution_count": 20,
      "outputs": [
        {
          "output_type": "execute_result",
          "data": {
            "text/plain": [
              "ID                                                                                     object\n",
              "Region of residence                                                                    object\n",
              "Age of Subject                                                                          int64\n",
              "Time spent on Online Class                                                            float64\n",
              "Rating of Online Class experience                                                      object\n",
              "Medium for online class                                                                object\n",
              "Time spent on self study                                                              float64\n",
              "Time spent on fitness                                                                 float64\n",
              "Time spent on sleep                                                                   float64\n",
              "Time spent on social media                                                            float64\n",
              "Prefered social media platform                                                         object\n",
              "Time spent on TV                                                                       object\n",
              "Number of meals per day                                                                 int64\n",
              "Change in your weight                                                                  object\n",
              "Health issue during lockdown                                                           object\n",
              "Stress busters                                                                         object\n",
              "Time utilized                                                                          object\n",
              "Do you find yourself more connected with your family, close friends , relatives  ?     object\n",
              "What you miss the most                                                                 object\n",
              "dtype: object"
            ]
          },
          "metadata": {},
          "execution_count": 20
        }
      ]
    },
    {
      "cell_type": "markdown",
      "metadata": {
        "id": "LmFPslPwJ7bh"
      },
      "source": [
        "Ahora visualizamos sólo las columnas numéricas de nuestro Dataframe original."
      ]
    },
    {
      "cell_type": "code",
      "metadata": {
        "colab": {
          "base_uri": "https://localhost:8080/",
          "height": 221
        },
        "id": "TfRhbMJYKCH3",
        "outputId": "9b51c6a0-8e3f-435b-c8a2-a40bac633d16"
      },
      "source": [
        "df_num = df.select_dtypes('number').head()\n",
        "df_num"
      ],
      "execution_count": 25,
      "outputs": [
        {
          "output_type": "execute_result",
          "data": {
            "text/html": [
              "<div>\n",
              "<style scoped>\n",
              "    .dataframe tbody tr th:only-of-type {\n",
              "        vertical-align: middle;\n",
              "    }\n",
              "\n",
              "    .dataframe tbody tr th {\n",
              "        vertical-align: top;\n",
              "    }\n",
              "\n",
              "    .dataframe thead th {\n",
              "        text-align: right;\n",
              "    }\n",
              "</style>\n",
              "<table border=\"1\" class=\"dataframe\">\n",
              "  <thead>\n",
              "    <tr style=\"text-align: right;\">\n",
              "      <th></th>\n",
              "      <th>Age of Subject</th>\n",
              "      <th>Time spent on Online Class</th>\n",
              "      <th>Time spent on self study</th>\n",
              "      <th>Time spent on fitness</th>\n",
              "      <th>Time spent on sleep</th>\n",
              "      <th>Time spent on social media</th>\n",
              "      <th>Number of meals per day</th>\n",
              "    </tr>\n",
              "  </thead>\n",
              "  <tbody>\n",
              "    <tr>\n",
              "      <th>0</th>\n",
              "      <td>21</td>\n",
              "      <td>2.0</td>\n",
              "      <td>4.0</td>\n",
              "      <td>0.0</td>\n",
              "      <td>7.0</td>\n",
              "      <td>3.0</td>\n",
              "      <td>4</td>\n",
              "    </tr>\n",
              "    <tr>\n",
              "      <th>1</th>\n",
              "      <td>21</td>\n",
              "      <td>0.0</td>\n",
              "      <td>0.0</td>\n",
              "      <td>2.0</td>\n",
              "      <td>10.0</td>\n",
              "      <td>3.0</td>\n",
              "      <td>3</td>\n",
              "    </tr>\n",
              "    <tr>\n",
              "      <th>2</th>\n",
              "      <td>20</td>\n",
              "      <td>7.0</td>\n",
              "      <td>3.0</td>\n",
              "      <td>0.0</td>\n",
              "      <td>6.0</td>\n",
              "      <td>2.0</td>\n",
              "      <td>3</td>\n",
              "    </tr>\n",
              "    <tr>\n",
              "      <th>3</th>\n",
              "      <td>20</td>\n",
              "      <td>3.0</td>\n",
              "      <td>2.0</td>\n",
              "      <td>1.0</td>\n",
              "      <td>6.0</td>\n",
              "      <td>5.0</td>\n",
              "      <td>3</td>\n",
              "    </tr>\n",
              "    <tr>\n",
              "      <th>4</th>\n",
              "      <td>21</td>\n",
              "      <td>3.0</td>\n",
              "      <td>3.0</td>\n",
              "      <td>1.0</td>\n",
              "      <td>8.0</td>\n",
              "      <td>3.0</td>\n",
              "      <td>4</td>\n",
              "    </tr>\n",
              "  </tbody>\n",
              "</table>\n",
              "</div>"
            ],
            "text/plain": [
              "   Age of Subject  ...  Number of meals per day\n",
              "0              21  ...                        4\n",
              "1              21  ...                        3\n",
              "2              20  ...                        3\n",
              "3              20  ...                        3\n",
              "4              21  ...                        4\n",
              "\n",
              "[5 rows x 7 columns]"
            ]
          },
          "metadata": {},
          "execution_count": 25
        }
      ]
    },
    {
      "cell_type": "markdown",
      "metadata": {
        "id": "qUdbA_IyKnxN"
      },
      "source": [
        "\n",
        "## Identificación de la relevancia de las columnas.\n",
        "\n",
        "\n",
        "---\n",
        "\n",
        "\n",
        "*   La columna `Age of subject` es importante para obtener conclusiones en relación a la edad, que está directamente relacionada con la madurez, pensamientos y comportamiento.\n",
        "*   Las columnas `Time spent on Online Class` ... `Time spent on social media` nos permite estudiar los hábitos de estudio de los encuestados.\n",
        "*   La columna `Number of meals per day` nos permite relacionar los hábitos alimenticios con la productividad, la salud y las relaciones personales.\n",
        "\n",
        "\n",
        "\n"
      ]
    },
    {
      "cell_type": "markdown",
      "metadata": {
        "id": "Z1dtNf0HNKiA"
      },
      "source": [
        "## Obtención de estimados para las columnas numéricas\n",
        "\n",
        "---\n",
        "\n",
        "### *Promedio.*\n",
        "\n"
      ]
    },
    {
      "cell_type": "code",
      "metadata": {
        "colab": {
          "base_uri": "https://localhost:8080/"
        },
        "id": "CL11AfnJKL9o",
        "outputId": "7122f046-6f68-4ec8-dacf-5c9a87f96cac"
      },
      "source": [
        "df_num.mean()"
      ],
      "execution_count": 63,
      "outputs": [
        {
          "output_type": "execute_result",
          "data": {
            "text/plain": [
              "Age of Subject                20.6\n",
              "Time spent on Online Class     3.0\n",
              "Time spent on self study       2.4\n",
              "Time spent on fitness          0.8\n",
              "Time spent on sleep            7.4\n",
              "Time spent on social media     3.2\n",
              "Number of meals per day        3.4\n",
              "dtype: float64"
            ]
          },
          "metadata": {},
          "execution_count": 63
        }
      ]
    },
    {
      "cell_type": "markdown",
      "metadata": {
        "id": "ttEyrFfyOnnX"
      },
      "source": [
        "### *Mediana.*"
      ]
    },
    {
      "cell_type": "code",
      "metadata": {
        "colab": {
          "base_uri": "https://localhost:8080/"
        },
        "id": "akzNWO89Orzd",
        "outputId": "3da6a14c-7ff6-43b0-bf1d-0336fd84f3f0"
      },
      "source": [
        "df_num.median()"
      ],
      "execution_count": 62,
      "outputs": [
        {
          "output_type": "execute_result",
          "data": {
            "text/plain": [
              "Age of Subject                21.0\n",
              "Time spent on Online Class     3.0\n",
              "Time spent on self study       3.0\n",
              "Time spent on fitness          1.0\n",
              "Time spent on sleep            7.0\n",
              "Time spent on social media     3.0\n",
              "Number of meals per day        3.0\n",
              "dtype: float64"
            ]
          },
          "metadata": {},
          "execution_count": 62
        }
      ]
    },
    {
      "cell_type": "markdown",
      "metadata": {
        "id": "qXNqfcv9Q3I9"
      },
      "source": [
        "### *Media truncada.*\n",
        "\n",
        "---\n",
        "\n",
        "Al aumentar el proncentaje de datos extremos eliminados, la variación de la media para el 10% es casi imperceptible y para el 20% tampoco se encuentran diferencias significativas.\n"
      ]
    },
    {
      "cell_type": "code",
      "metadata": {
        "colab": {
          "base_uri": "https://localhost:8080/"
        },
        "id": "y27mOBoRTX_l",
        "outputId": "136382be-ea42-4036-cb63-3c72e4bb2ad7"
      },
      "source": [
        "for i in range(7):\n",
        "  print(df_num.columns[i], stats.trim_mean(df_num, 0.1)[i])"
      ],
      "execution_count": 64,
      "outputs": [
        {
          "output_type": "stream",
          "text": [
            "Age of Subject 20.6\n",
            "Time spent on Online Class 3.0\n",
            "Time spent on self study 2.4\n",
            "Time spent on fitness 0.8\n",
            "Time spent on sleep 7.4\n",
            "Time spent on social media 3.2\n",
            "Number of meals per day 3.4\n"
          ],
          "name": "stdout"
        }
      ]
    },
    {
      "cell_type": "code",
      "metadata": {
        "colab": {
          "base_uri": "https://localhost:8080/"
        },
        "id": "8mAXgvOwRqzx",
        "outputId": "60af0c41-99ae-4ea8-fb14-566270f22ecc"
      },
      "source": [
        "for i in range(7):\n",
        "  print(df_num.columns[i], round(stats.trim_mean(df_num, 0.2)[i],2))"
      ],
      "execution_count": 65,
      "outputs": [
        {
          "output_type": "stream",
          "text": [
            "Age of Subject 20.67\n",
            "Time spent on Online Class 2.67\n",
            "Time spent on self study 2.67\n",
            "Time spent on fitness 0.67\n",
            "Time spent on sleep 7.0\n",
            "Time spent on social media 3.0\n",
            "Number of meals per day 3.33\n"
          ],
          "name": "stdout"
        }
      ]
    },
    {
      "cell_type": "markdown",
      "metadata": {
        "id": "SgDW3A-6W6XJ"
      },
      "source": [
        "### *Desviación estándar.*"
      ]
    },
    {
      "cell_type": "code",
      "metadata": {
        "colab": {
          "base_uri": "https://localhost:8080/"
        },
        "id": "4UXz_RjPW_B7",
        "outputId": "fce8d113-a535-4001-d447-3252fa07aa25"
      },
      "source": [
        "df_num.std()"
      ],
      "execution_count": 61,
      "outputs": [
        {
          "output_type": "execute_result",
          "data": {
            "text/plain": [
              "Age of Subject                0.547723\n",
              "Time spent on Online Class    2.549510\n",
              "Time spent on self study      1.516575\n",
              "Time spent on fitness         0.836660\n",
              "Time spent on sleep           1.673320\n",
              "Time spent on social media    1.095445\n",
              "Number of meals per day       0.547723\n",
              "dtype: float64"
            ]
          },
          "metadata": {},
          "execution_count": 61
        }
      ]
    },
    {
      "cell_type": "markdown",
      "metadata": {
        "id": "MkcSdaLyXJCg"
      },
      "source": [
        "### *Rango.*"
      ]
    },
    {
      "cell_type": "code",
      "metadata": {
        "colab": {
          "base_uri": "https://localhost:8080/"
        },
        "id": "v8hPkOGdXNSj",
        "outputId": "967410fb-9892-4676-f7c5-4828debd9ea1"
      },
      "source": [
        "df_num.max(axis=0)"
      ],
      "execution_count": 71,
      "outputs": [
        {
          "output_type": "execute_result",
          "data": {
            "text/plain": [
              "Age of Subject                21.0\n",
              "Time spent on Online Class     7.0\n",
              "Time spent on self study       4.0\n",
              "Time spent on fitness          2.0\n",
              "Time spent on sleep           10.0\n",
              "Time spent on social media     5.0\n",
              "Number of meals per day        4.0\n",
              "dtype: float64"
            ]
          },
          "metadata": {},
          "execution_count": 71
        }
      ]
    },
    {
      "cell_type": "code",
      "metadata": {
        "colab": {
          "base_uri": "https://localhost:8080/"
        },
        "id": "9qiQQfd2X1hz",
        "outputId": "b9e0e4c2-2b38-4ad9-f497-369b7aad372b"
      },
      "source": [
        "df_num.min(axis=0)"
      ],
      "execution_count": 69,
      "outputs": [
        {
          "output_type": "execute_result",
          "data": {
            "text/plain": [
              "Age of Subject                20.0\n",
              "Time spent on Online Class     0.0\n",
              "Time spent on self study       0.0\n",
              "Time spent on fitness          0.0\n",
              "Time spent on sleep            6.0\n",
              "Time spent on social media     2.0\n",
              "Number of meals per day        3.0\n",
              "dtype: float64"
            ]
          },
          "metadata": {},
          "execution_count": 69
        }
      ]
    },
    {
      "cell_type": "code",
      "metadata": {
        "colab": {
          "base_uri": "https://localhost:8080/"
        },
        "id": "3zry80X6X2am",
        "outputId": "39af0400-a956-4400-9df0-30bc4e1cfb2d"
      },
      "source": [
        "df_num.max(axis=0)-df_num.min(axis=0)"
      ],
      "execution_count": 70,
      "outputs": [
        {
          "output_type": "execute_result",
          "data": {
            "text/plain": [
              "Age of Subject                1.0\n",
              "Time spent on Online Class    7.0\n",
              "Time spent on self study      4.0\n",
              "Time spent on fitness         2.0\n",
              "Time spent on sleep           4.0\n",
              "Time spent on social media    3.0\n",
              "Number of meals per day       1.0\n",
              "dtype: float64"
            ]
          },
          "metadata": {},
          "execution_count": 70
        }
      ]
    },
    {
      "cell_type": "markdown",
      "metadata": {
        "id": "PjoN5R6tX79Q"
      },
      "source": [
        "### *Percentiles.*"
      ]
    },
    {
      "cell_type": "code",
      "metadata": {
        "colab": {
          "base_uri": "https://localhost:8080/",
          "height": 266
        },
        "id": "-o473Bg6biJ8",
        "outputId": "f27bcf4a-5678-42ee-b748-fb566758146c"
      },
      "source": [
        "def per(df, value):\n",
        "  return [df[i].quantile(value) for i in df_num]\n",
        "\n",
        "datos = {\n",
        "    'Percentil 10': per(df_num, 0.1),\n",
        "    'Percentil 25': per(df_num, 0.25),\n",
        "    'Percentil 50': per(df_num, 0.5),\n",
        "    'Percentil 75': per(df_num, 0.75),\n",
        "    'Percentil 90': per(df_num, 0.9)\n",
        "}\n",
        "\n",
        "df_per = pd.DataFrame(datos)\n",
        "df_per.index = df_num.columns\n",
        "\n",
        "df_per"
      ],
      "execution_count": 94,
      "outputs": [
        {
          "output_type": "execute_result",
          "data": {
            "text/html": [
              "<div>\n",
              "<style scoped>\n",
              "    .dataframe tbody tr th:only-of-type {\n",
              "        vertical-align: middle;\n",
              "    }\n",
              "\n",
              "    .dataframe tbody tr th {\n",
              "        vertical-align: top;\n",
              "    }\n",
              "\n",
              "    .dataframe thead th {\n",
              "        text-align: right;\n",
              "    }\n",
              "</style>\n",
              "<table border=\"1\" class=\"dataframe\">\n",
              "  <thead>\n",
              "    <tr style=\"text-align: right;\">\n",
              "      <th></th>\n",
              "      <th>Percentil 10</th>\n",
              "      <th>Percentil 25</th>\n",
              "      <th>Percentil 50</th>\n",
              "      <th>Percentil 75</th>\n",
              "      <th>Percentil 90</th>\n",
              "    </tr>\n",
              "  </thead>\n",
              "  <tbody>\n",
              "    <tr>\n",
              "      <th>Age of Subject</th>\n",
              "      <td>20.0</td>\n",
              "      <td>20.0</td>\n",
              "      <td>21.0</td>\n",
              "      <td>21.0</td>\n",
              "      <td>21.0</td>\n",
              "    </tr>\n",
              "    <tr>\n",
              "      <th>Time spent on Online Class</th>\n",
              "      <td>0.8</td>\n",
              "      <td>2.0</td>\n",
              "      <td>3.0</td>\n",
              "      <td>3.0</td>\n",
              "      <td>5.4</td>\n",
              "    </tr>\n",
              "    <tr>\n",
              "      <th>Time spent on self study</th>\n",
              "      <td>0.8</td>\n",
              "      <td>2.0</td>\n",
              "      <td>3.0</td>\n",
              "      <td>3.0</td>\n",
              "      <td>3.6</td>\n",
              "    </tr>\n",
              "    <tr>\n",
              "      <th>Time spent on fitness</th>\n",
              "      <td>0.0</td>\n",
              "      <td>0.0</td>\n",
              "      <td>1.0</td>\n",
              "      <td>1.0</td>\n",
              "      <td>1.6</td>\n",
              "    </tr>\n",
              "    <tr>\n",
              "      <th>Time spent on sleep</th>\n",
              "      <td>6.0</td>\n",
              "      <td>6.0</td>\n",
              "      <td>7.0</td>\n",
              "      <td>8.0</td>\n",
              "      <td>9.2</td>\n",
              "    </tr>\n",
              "    <tr>\n",
              "      <th>Time spent on social media</th>\n",
              "      <td>2.4</td>\n",
              "      <td>3.0</td>\n",
              "      <td>3.0</td>\n",
              "      <td>3.0</td>\n",
              "      <td>4.2</td>\n",
              "    </tr>\n",
              "    <tr>\n",
              "      <th>Number of meals per day</th>\n",
              "      <td>3.0</td>\n",
              "      <td>3.0</td>\n",
              "      <td>3.0</td>\n",
              "      <td>4.0</td>\n",
              "      <td>4.0</td>\n",
              "    </tr>\n",
              "  </tbody>\n",
              "</table>\n",
              "</div>"
            ],
            "text/plain": [
              "                            Percentil 10  ...  Percentil 90\n",
              "Age of Subject                      20.0  ...          21.0\n",
              "Time spent on Online Class           0.8  ...           5.4\n",
              "Time spent on self study             0.8  ...           3.6\n",
              "Time spent on fitness                0.0  ...           1.6\n",
              "Time spent on sleep                  6.0  ...           9.2\n",
              "Time spent on social media           2.4  ...           4.2\n",
              "Number of meals per day              3.0  ...           4.0\n",
              "\n",
              "[7 rows x 5 columns]"
            ]
          },
          "metadata": {},
          "execution_count": 94
        }
      ]
    },
    {
      "cell_type": "markdown",
      "metadata": {
        "id": "VrTtsJonYE9B"
      },
      "source": [
        "### *Rango intercuartil.*"
      ]
    },
    {
      "cell_type": "code",
      "metadata": {
        "colab": {
          "base_uri": "https://localhost:8080/"
        },
        "id": "FdoqepsYYIny",
        "outputId": "011396db-7e4b-4ad1-e15e-05204a7423ea"
      },
      "source": [
        "df_num.quantile(0.75) - df_num.quantile(0.25)"
      ],
      "execution_count": 75,
      "outputs": [
        {
          "output_type": "execute_result",
          "data": {
            "text/plain": [
              "Age of Subject                1.0\n",
              "Time spent on Online Class    1.0\n",
              "Time spent on self study      1.0\n",
              "Time spent on fitness         1.0\n",
              "Time spent on sleep           2.0\n",
              "Time spent on social media    0.0\n",
              "Number of meals per day       1.0\n",
              "dtype: float64"
            ]
          },
          "metadata": {},
          "execution_count": 75
        }
      ]
    }
  ]
}
